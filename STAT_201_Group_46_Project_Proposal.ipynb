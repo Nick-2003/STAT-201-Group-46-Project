{
 "cells": [
  {
   "cell_type": "markdown",
   "id": "175ea34f-9cde-40c2-ba3e-179921e291d7",
   "metadata": {},
   "source": [
    "# STAT 201 \n",
    "## Group 46\n",
    "### Tsun Li Nicholas Tam, Camila Dall Bello, Leon Zhang\n"
   ]
  },
  {
   "cell_type": "code",
   "execution_count": 12,
   "id": "cf21c564-3f93-4905-bcfa-8f965a08fc2d",
   "metadata": {},
   "outputs": [],
   "source": [
    "# Imports\n",
    "\n",
    "# library(cowplot)\n",
    "library(dplyr)\n",
    "library(gridExtra)\n",
    "library(tidyverse)\n",
    "library(repr)\n",
    "# library(infer)\n",
    "library(repr)\n",
    "# library(datateachr)\n",
    "library(digest)\n",
    "library(lubridate)\n",
    "# library(taxyvr)"
   ]
  },
  {
   "cell_type": "markdown",
   "id": "c7b325ea-8cb3-4e0c-8829-0a6cebec4f58",
   "metadata": {},
   "source": [
    "## Introduction\n",
    "### Background Information\n",
    "\n",
    "\n",
    "### Dataset and Project Question\n",
    "For our research project, we have selected datasets of hourly observations of PM2.5 concentration from 1-1-2010 to 12-31-2015. These datasets were retrieved from https://archive.ics.uci.edu/ml/datasets/PM2.5+Data+of+Five+Chinese+Cities and converted to CSV files online, containing the PM2.5 data in Beijing, Shanghai, Guangzhou, Chengdu and Shenyang, along with other meteorological data for each city.\n"
   ]
  },
  {
   "cell_type": "markdown",
   "id": "cff5df47-0753-45f0-bb4f-c14e4beb8805",
   "metadata": {},
   "source": [
    "## Preliminary Results\n",
    "\n"
   ]
  },
  {
   "cell_type": "code",
   "execution_count": 5,
   "id": "91b1fcc6-7cbd-4560-a2ec-f7263dcacf0b",
   "metadata": {},
   "outputs": [
    {
     "data": {
      "text/html": [
       "<table class=\"dataframe\">\n",
       "<caption>A data.frame: 6 × 18</caption>\n",
       "<thead>\n",
       "\t<tr><th></th><th scope=col>No</th><th scope=col>year</th><th scope=col>month</th><th scope=col>day</th><th scope=col>hour</th><th scope=col>season</th><th scope=col>PM_Dongsi</th><th scope=col>PM_Dongsihuan</th><th scope=col>PM_Nongzhanguan</th><th scope=col>PM_US.Post</th><th scope=col>DEWP</th><th scope=col>HUMI</th><th scope=col>PRES</th><th scope=col>TEMP</th><th scope=col>cbwd</th><th scope=col>Iws</th><th scope=col>precipitation</th><th scope=col>Iprec</th></tr>\n",
       "\t<tr><th></th><th scope=col>&lt;int&gt;</th><th scope=col>&lt;int&gt;</th><th scope=col>&lt;int&gt;</th><th scope=col>&lt;int&gt;</th><th scope=col>&lt;int&gt;</th><th scope=col>&lt;int&gt;</th><th scope=col>&lt;int&gt;</th><th scope=col>&lt;int&gt;</th><th scope=col>&lt;int&gt;</th><th scope=col>&lt;int&gt;</th><th scope=col>&lt;int&gt;</th><th scope=col>&lt;dbl&gt;</th><th scope=col>&lt;dbl&gt;</th><th scope=col>&lt;dbl&gt;</th><th scope=col>&lt;chr&gt;</th><th scope=col>&lt;dbl&gt;</th><th scope=col>&lt;dbl&gt;</th><th scope=col>&lt;dbl&gt;</th></tr>\n",
       "</thead>\n",
       "<tbody>\n",
       "\t<tr><th scope=row>27825</th><td>27825</td><td>2013</td><td>3</td><td>5</td><td> 8</td><td>1</td><td>117</td><td>166</td><td>140</td><td>150</td><td> -6</td><td>59</td><td>1019</td><td> 1</td><td>cv</td><td>0.89</td><td>0</td><td>0</td></tr>\n",
       "\t<tr><th scope=row>27826</th><td>27826</td><td>2013</td><td>3</td><td>5</td><td> 9</td><td>1</td><td>131</td><td>165</td><td>152</td><td>163</td><td> -8</td><td>38</td><td>1019</td><td> 5</td><td>cv</td><td>1.78</td><td>0</td><td>0</td></tr>\n",
       "\t<tr><th scope=row>27827</th><td>27827</td><td>2013</td><td>3</td><td>5</td><td>10</td><td>1</td><td>141</td><td>173</td><td>128</td><td>172</td><td> -8</td><td>31</td><td>1018</td><td> 8</td><td>cv</td><td>2.67</td><td>0</td><td>0</td></tr>\n",
       "\t<tr><th scope=row>27829</th><td>27829</td><td>2013</td><td>3</td><td>5</td><td>12</td><td>1</td><td>169</td><td>182</td><td>  3</td><td>181</td><td> -9</td><td>23</td><td>1017</td><td>11</td><td>cv</td><td>4.45</td><td>0</td><td>0</td></tr>\n",
       "\t<tr><th scope=row>27830</th><td>27830</td><td>2013</td><td>3</td><td>5</td><td>13</td><td>1</td><td>169</td><td>169</td><td>  3</td><td>187</td><td> -9</td><td>22</td><td>1015</td><td>12</td><td>cv</td><td>5.34</td><td>0</td><td>0</td></tr>\n",
       "\t<tr><th scope=row>27831</th><td>27831</td><td>2013</td><td>3</td><td>5</td><td>14</td><td>1</td><td>174</td><td>183</td><td>163</td><td>204</td><td>-10</td><td>19</td><td>1014</td><td>13</td><td>cv</td><td>7.13</td><td>0</td><td>0</td></tr>\n",
       "</tbody>\n",
       "</table>\n"
      ],
      "text/latex": [
       "A data.frame: 6 × 18\n",
       "\\begin{tabular}{r|llllllllllllllllll}\n",
       "  & No & year & month & day & hour & season & PM\\_Dongsi & PM\\_Dongsihuan & PM\\_Nongzhanguan & PM\\_US.Post & DEWP & HUMI & PRES & TEMP & cbwd & Iws & precipitation & Iprec\\\\\n",
       "  & <int> & <int> & <int> & <int> & <int> & <int> & <int> & <int> & <int> & <int> & <int> & <dbl> & <dbl> & <dbl> & <chr> & <dbl> & <dbl> & <dbl>\\\\\n",
       "\\hline\n",
       "\t27825 & 27825 & 2013 & 3 & 5 &  8 & 1 & 117 & 166 & 140 & 150 &  -6 & 59 & 1019 &  1 & cv & 0.89 & 0 & 0\\\\\n",
       "\t27826 & 27826 & 2013 & 3 & 5 &  9 & 1 & 131 & 165 & 152 & 163 &  -8 & 38 & 1019 &  5 & cv & 1.78 & 0 & 0\\\\\n",
       "\t27827 & 27827 & 2013 & 3 & 5 & 10 & 1 & 141 & 173 & 128 & 172 &  -8 & 31 & 1018 &  8 & cv & 2.67 & 0 & 0\\\\\n",
       "\t27829 & 27829 & 2013 & 3 & 5 & 12 & 1 & 169 & 182 &   3 & 181 &  -9 & 23 & 1017 & 11 & cv & 4.45 & 0 & 0\\\\\n",
       "\t27830 & 27830 & 2013 & 3 & 5 & 13 & 1 & 169 & 169 &   3 & 187 &  -9 & 22 & 1015 & 12 & cv & 5.34 & 0 & 0\\\\\n",
       "\t27831 & 27831 & 2013 & 3 & 5 & 14 & 1 & 174 & 183 & 163 & 204 & -10 & 19 & 1014 & 13 & cv & 7.13 & 0 & 0\\\\\n",
       "\\end{tabular}\n"
      ],
      "text/markdown": [
       "\n",
       "A data.frame: 6 × 18\n",
       "\n",
       "| <!--/--> | No &lt;int&gt; | year &lt;int&gt; | month &lt;int&gt; | day &lt;int&gt; | hour &lt;int&gt; | season &lt;int&gt; | PM_Dongsi &lt;int&gt; | PM_Dongsihuan &lt;int&gt; | PM_Nongzhanguan &lt;int&gt; | PM_US.Post &lt;int&gt; | DEWP &lt;int&gt; | HUMI &lt;dbl&gt; | PRES &lt;dbl&gt; | TEMP &lt;dbl&gt; | cbwd &lt;chr&gt; | Iws &lt;dbl&gt; | precipitation &lt;dbl&gt; | Iprec &lt;dbl&gt; |\n",
       "|---|---|---|---|---|---|---|---|---|---|---|---|---|---|---|---|---|---|---|\n",
       "| 27825 | 27825 | 2013 | 3 | 5 |  8 | 1 | 117 | 166 | 140 | 150 |  -6 | 59 | 1019 |  1 | cv | 0.89 | 0 | 0 |\n",
       "| 27826 | 27826 | 2013 | 3 | 5 |  9 | 1 | 131 | 165 | 152 | 163 |  -8 | 38 | 1019 |  5 | cv | 1.78 | 0 | 0 |\n",
       "| 27827 | 27827 | 2013 | 3 | 5 | 10 | 1 | 141 | 173 | 128 | 172 |  -8 | 31 | 1018 |  8 | cv | 2.67 | 0 | 0 |\n",
       "| 27829 | 27829 | 2013 | 3 | 5 | 12 | 1 | 169 | 182 |   3 | 181 |  -9 | 23 | 1017 | 11 | cv | 4.45 | 0 | 0 |\n",
       "| 27830 | 27830 | 2013 | 3 | 5 | 13 | 1 | 169 | 169 |   3 | 187 |  -9 | 22 | 1015 | 12 | cv | 5.34 | 0 | 0 |\n",
       "| 27831 | 27831 | 2013 | 3 | 5 | 14 | 1 | 174 | 183 | 163 | 204 | -10 | 19 | 1014 | 13 | cv | 7.13 | 0 | 0 |\n",
       "\n"
      ],
      "text/plain": [
       "      No    year month day hour season PM_Dongsi PM_Dongsihuan PM_Nongzhanguan\n",
       "27825 27825 2013 3     5    8   1      117       166           140            \n",
       "27826 27826 2013 3     5    9   1      131       165           152            \n",
       "27827 27827 2013 3     5   10   1      141       173           128            \n",
       "27829 27829 2013 3     5   12   1      169       182             3            \n",
       "27830 27830 2013 3     5   13   1      169       169             3            \n",
       "27831 27831 2013 3     5   14   1      174       183           163            \n",
       "      PM_US.Post DEWP HUMI PRES TEMP cbwd Iws  precipitation Iprec\n",
       "27825 150         -6  59   1019  1   cv   0.89 0             0    \n",
       "27826 163         -8  38   1019  5   cv   1.78 0             0    \n",
       "27827 172         -8  31   1018  8   cv   2.67 0             0    \n",
       "27829 181         -9  23   1017 11   cv   4.45 0             0    \n",
       "27830 187         -9  22   1015 12   cv   5.34 0             0    \n",
       "27831 204        -10  19   1014 13   cv   7.13 0             0    "
      ]
     },
     "metadata": {},
     "output_type": "display_data"
    },
    {
     "data": {
      "text/html": [
       "<table class=\"dataframe\">\n",
       "<caption>A data.frame: 6 × 17</caption>\n",
       "<thead>\n",
       "\t<tr><th></th><th scope=col>No</th><th scope=col>year</th><th scope=col>month</th><th scope=col>day</th><th scope=col>hour</th><th scope=col>season</th><th scope=col>PM_Jingan</th><th scope=col>PM_US.Post</th><th scope=col>PM_Xuhui</th><th scope=col>DEWP</th><th scope=col>HUMI</th><th scope=col>PRES</th><th scope=col>TEMP</th><th scope=col>cbwd</th><th scope=col>Iws</th><th scope=col>precipitation</th><th scope=col>Iprec</th></tr>\n",
       "\t<tr><th></th><th scope=col>&lt;int&gt;</th><th scope=col>&lt;int&gt;</th><th scope=col>&lt;int&gt;</th><th scope=col>&lt;int&gt;</th><th scope=col>&lt;int&gt;</th><th scope=col>&lt;int&gt;</th><th scope=col>&lt;int&gt;</th><th scope=col>&lt;int&gt;</th><th scope=col>&lt;int&gt;</th><th scope=col>&lt;int&gt;</th><th scope=col>&lt;dbl&gt;</th><th scope=col>&lt;dbl&gt;</th><th scope=col>&lt;int&gt;</th><th scope=col>&lt;chr&gt;</th><th scope=col>&lt;dbl&gt;</th><th scope=col>&lt;dbl&gt;</th><th scope=col>&lt;dbl&gt;</th></tr>\n",
       "</thead>\n",
       "<tbody>\n",
       "\t<tr><th scope=row>26305</th><td>26305</td><td>2013</td><td>1</td><td>1</td><td>0</td><td>4</td><td>66</td><td>70</td><td>71</td><td>-5</td><td>69.00</td><td>1023</td><td> 0</td><td>SW</td><td>60</td><td>0</td><td>0</td></tr>\n",
       "\t<tr><th scope=row>26306</th><td>26306</td><td>2013</td><td>1</td><td>1</td><td>1</td><td>4</td><td>67</td><td>76</td><td>72</td><td>-5</td><td>69.00</td><td>1023</td><td> 0</td><td>SW</td><td>62</td><td>0</td><td>0</td></tr>\n",
       "\t<tr><th scope=row>26308</th><td>26308</td><td>2013</td><td>1</td><td>1</td><td>3</td><td>4</td><td>73</td><td>78</td><td>74</td><td>-4</td><td>74.41</td><td>1023</td><td> 0</td><td>SW</td><td>65</td><td>0</td><td>0</td></tr>\n",
       "\t<tr><th scope=row>26309</th><td>26309</td><td>2013</td><td>1</td><td>1</td><td>4</td><td>4</td><td>75</td><td>77</td><td>77</td><td>-4</td><td>80.04</td><td>1023</td><td>-1</td><td>SW</td><td>68</td><td>0</td><td>0</td></tr>\n",
       "\t<tr><th scope=row>26310</th><td>26310</td><td>2013</td><td>1</td><td>1</td><td>5</td><td>4</td><td>73</td><td>78</td><td>80</td><td>-4</td><td>80.04</td><td>1023</td><td>-1</td><td>SW</td><td>70</td><td>0</td><td>0</td></tr>\n",
       "\t<tr><th scope=row>26311</th><td>26311</td><td>2013</td><td>1</td><td>1</td><td>6</td><td>4</td><td>74</td><td>77</td><td>77</td><td>-4</td><td>80.04</td><td>1023</td><td>-1</td><td>SW</td><td>71</td><td>0</td><td>0</td></tr>\n",
       "</tbody>\n",
       "</table>\n"
      ],
      "text/latex": [
       "A data.frame: 6 × 17\n",
       "\\begin{tabular}{r|lllllllllllllllll}\n",
       "  & No & year & month & day & hour & season & PM\\_Jingan & PM\\_US.Post & PM\\_Xuhui & DEWP & HUMI & PRES & TEMP & cbwd & Iws & precipitation & Iprec\\\\\n",
       "  & <int> & <int> & <int> & <int> & <int> & <int> & <int> & <int> & <int> & <int> & <dbl> & <dbl> & <int> & <chr> & <dbl> & <dbl> & <dbl>\\\\\n",
       "\\hline\n",
       "\t26305 & 26305 & 2013 & 1 & 1 & 0 & 4 & 66 & 70 & 71 & -5 & 69.00 & 1023 &  0 & SW & 60 & 0 & 0\\\\\n",
       "\t26306 & 26306 & 2013 & 1 & 1 & 1 & 4 & 67 & 76 & 72 & -5 & 69.00 & 1023 &  0 & SW & 62 & 0 & 0\\\\\n",
       "\t26308 & 26308 & 2013 & 1 & 1 & 3 & 4 & 73 & 78 & 74 & -4 & 74.41 & 1023 &  0 & SW & 65 & 0 & 0\\\\\n",
       "\t26309 & 26309 & 2013 & 1 & 1 & 4 & 4 & 75 & 77 & 77 & -4 & 80.04 & 1023 & -1 & SW & 68 & 0 & 0\\\\\n",
       "\t26310 & 26310 & 2013 & 1 & 1 & 5 & 4 & 73 & 78 & 80 & -4 & 80.04 & 1023 & -1 & SW & 70 & 0 & 0\\\\\n",
       "\t26311 & 26311 & 2013 & 1 & 1 & 6 & 4 & 74 & 77 & 77 & -4 & 80.04 & 1023 & -1 & SW & 71 & 0 & 0\\\\\n",
       "\\end{tabular}\n"
      ],
      "text/markdown": [
       "\n",
       "A data.frame: 6 × 17\n",
       "\n",
       "| <!--/--> | No &lt;int&gt; | year &lt;int&gt; | month &lt;int&gt; | day &lt;int&gt; | hour &lt;int&gt; | season &lt;int&gt; | PM_Jingan &lt;int&gt; | PM_US.Post &lt;int&gt; | PM_Xuhui &lt;int&gt; | DEWP &lt;int&gt; | HUMI &lt;dbl&gt; | PRES &lt;dbl&gt; | TEMP &lt;int&gt; | cbwd &lt;chr&gt; | Iws &lt;dbl&gt; | precipitation &lt;dbl&gt; | Iprec &lt;dbl&gt; |\n",
       "|---|---|---|---|---|---|---|---|---|---|---|---|---|---|---|---|---|---|\n",
       "| 26305 | 26305 | 2013 | 1 | 1 | 0 | 4 | 66 | 70 | 71 | -5 | 69.00 | 1023 |  0 | SW | 60 | 0 | 0 |\n",
       "| 26306 | 26306 | 2013 | 1 | 1 | 1 | 4 | 67 | 76 | 72 | -5 | 69.00 | 1023 |  0 | SW | 62 | 0 | 0 |\n",
       "| 26308 | 26308 | 2013 | 1 | 1 | 3 | 4 | 73 | 78 | 74 | -4 | 74.41 | 1023 |  0 | SW | 65 | 0 | 0 |\n",
       "| 26309 | 26309 | 2013 | 1 | 1 | 4 | 4 | 75 | 77 | 77 | -4 | 80.04 | 1023 | -1 | SW | 68 | 0 | 0 |\n",
       "| 26310 | 26310 | 2013 | 1 | 1 | 5 | 4 | 73 | 78 | 80 | -4 | 80.04 | 1023 | -1 | SW | 70 | 0 | 0 |\n",
       "| 26311 | 26311 | 2013 | 1 | 1 | 6 | 4 | 74 | 77 | 77 | -4 | 80.04 | 1023 | -1 | SW | 71 | 0 | 0 |\n",
       "\n"
      ],
      "text/plain": [
       "      No    year month day hour season PM_Jingan PM_US.Post PM_Xuhui DEWP HUMI \n",
       "26305 26305 2013 1     1   0    4      66        70         71       -5   69.00\n",
       "26306 26306 2013 1     1   1    4      67        76         72       -5   69.00\n",
       "26308 26308 2013 1     1   3    4      73        78         74       -4   74.41\n",
       "26309 26309 2013 1     1   4    4      75        77         77       -4   80.04\n",
       "26310 26310 2013 1     1   5    4      73        78         80       -4   80.04\n",
       "26311 26311 2013 1     1   6    4      74        77         77       -4   80.04\n",
       "      PRES TEMP cbwd Iws precipitation Iprec\n",
       "26305 1023  0   SW   60  0             0    \n",
       "26306 1023  0   SW   62  0             0    \n",
       "26308 1023  0   SW   65  0             0    \n",
       "26309 1023 -1   SW   68  0             0    \n",
       "26310 1023 -1   SW   70  0             0    \n",
       "26311 1023 -1   SW   71  0             0    "
      ]
     },
     "metadata": {},
     "output_type": "display_data"
    },
    {
     "data": {
      "text/html": [
       "<table class=\"dataframe\">\n",
       "<caption>A data.frame: 6 × 17</caption>\n",
       "<thead>\n",
       "\t<tr><th></th><th scope=col>No</th><th scope=col>year</th><th scope=col>month</th><th scope=col>day</th><th scope=col>hour</th><th scope=col>season</th><th scope=col>PM_Caotangsi</th><th scope=col>PM_Shahepu</th><th scope=col>PM_US.Post</th><th scope=col>DEWP</th><th scope=col>HUMI</th><th scope=col>PRES</th><th scope=col>TEMP</th><th scope=col>cbwd</th><th scope=col>Iws</th><th scope=col>precipitation</th><th scope=col>Iprec</th></tr>\n",
       "\t<tr><th></th><th scope=col>&lt;int&gt;</th><th scope=col>&lt;int&gt;</th><th scope=col>&lt;int&gt;</th><th scope=col>&lt;int&gt;</th><th scope=col>&lt;int&gt;</th><th scope=col>&lt;int&gt;</th><th scope=col>&lt;int&gt;</th><th scope=col>&lt;int&gt;</th><th scope=col>&lt;int&gt;</th><th scope=col>&lt;int&gt;</th><th scope=col>&lt;dbl&gt;</th><th scope=col>&lt;dbl&gt;</th><th scope=col>&lt;int&gt;</th><th scope=col>&lt;chr&gt;</th><th scope=col>&lt;dbl&gt;</th><th scope=col>&lt;dbl&gt;</th><th scope=col>&lt;dbl&gt;</th></tr>\n",
       "</thead>\n",
       "<tbody>\n",
       "\t<tr><th scope=row>26305</th><td>26305</td><td>2013</td><td>1</td><td>1</td><td> 0</td><td>4</td><td>121</td><td>138</td><td>129</td><td>-4</td><td>64.42</td><td>1022</td><td> 2</td><td>cv</td><td>1</td><td>0</td><td>0</td></tr>\n",
       "\t<tr><th scope=row>26306</th><td>26306</td><td>2013</td><td>1</td><td>1</td><td> 1</td><td>4</td><td>134</td><td>159</td><td>135</td><td>-3</td><td>80.19</td><td>1022</td><td> 0</td><td>cv</td><td>1</td><td>0</td><td>0</td></tr>\n",
       "\t<tr><th scope=row>26318</th><td>26318</td><td>2013</td><td>1</td><td>1</td><td>13</td><td>4</td><td>159</td><td>181</td><td>132</td><td>-9</td><td>26.99</td><td>1018</td><td> 9</td><td>SW</td><td>1</td><td>0</td><td>0</td></tr>\n",
       "\t<tr><th scope=row>26319</th><td>26319</td><td>2013</td><td>1</td><td>1</td><td>14</td><td>4</td><td>168</td><td>184</td><td>100</td><td>-8</td><td>27.29</td><td>1017</td><td>10</td><td>SW</td><td>2</td><td>0</td><td>0</td></tr>\n",
       "\t<tr><th scope=row>26320</th><td>26320</td><td>2013</td><td>1</td><td>1</td><td>15</td><td>4</td><td>143</td><td>162</td><td>101</td><td>-7</td><td>29.48</td><td>1015</td><td>10</td><td>NE</td><td>2</td><td>0</td><td>0</td></tr>\n",
       "\t<tr><th scope=row>26321</th><td>26321</td><td>2013</td><td>1</td><td>1</td><td>16</td><td>4</td><td>113</td><td>151</td><td> 91</td><td>-7</td><td>29.48</td><td>1015</td><td>10</td><td>NE</td><td>4</td><td>0</td><td>0</td></tr>\n",
       "</tbody>\n",
       "</table>\n"
      ],
      "text/latex": [
       "A data.frame: 6 × 17\n",
       "\\begin{tabular}{r|lllllllllllllllll}\n",
       "  & No & year & month & day & hour & season & PM\\_Caotangsi & PM\\_Shahepu & PM\\_US.Post & DEWP & HUMI & PRES & TEMP & cbwd & Iws & precipitation & Iprec\\\\\n",
       "  & <int> & <int> & <int> & <int> & <int> & <int> & <int> & <int> & <int> & <int> & <dbl> & <dbl> & <int> & <chr> & <dbl> & <dbl> & <dbl>\\\\\n",
       "\\hline\n",
       "\t26305 & 26305 & 2013 & 1 & 1 &  0 & 4 & 121 & 138 & 129 & -4 & 64.42 & 1022 &  2 & cv & 1 & 0 & 0\\\\\n",
       "\t26306 & 26306 & 2013 & 1 & 1 &  1 & 4 & 134 & 159 & 135 & -3 & 80.19 & 1022 &  0 & cv & 1 & 0 & 0\\\\\n",
       "\t26318 & 26318 & 2013 & 1 & 1 & 13 & 4 & 159 & 181 & 132 & -9 & 26.99 & 1018 &  9 & SW & 1 & 0 & 0\\\\\n",
       "\t26319 & 26319 & 2013 & 1 & 1 & 14 & 4 & 168 & 184 & 100 & -8 & 27.29 & 1017 & 10 & SW & 2 & 0 & 0\\\\\n",
       "\t26320 & 26320 & 2013 & 1 & 1 & 15 & 4 & 143 & 162 & 101 & -7 & 29.48 & 1015 & 10 & NE & 2 & 0 & 0\\\\\n",
       "\t26321 & 26321 & 2013 & 1 & 1 & 16 & 4 & 113 & 151 &  91 & -7 & 29.48 & 1015 & 10 & NE & 4 & 0 & 0\\\\\n",
       "\\end{tabular}\n"
      ],
      "text/markdown": [
       "\n",
       "A data.frame: 6 × 17\n",
       "\n",
       "| <!--/--> | No &lt;int&gt; | year &lt;int&gt; | month &lt;int&gt; | day &lt;int&gt; | hour &lt;int&gt; | season &lt;int&gt; | PM_Caotangsi &lt;int&gt; | PM_Shahepu &lt;int&gt; | PM_US.Post &lt;int&gt; | DEWP &lt;int&gt; | HUMI &lt;dbl&gt; | PRES &lt;dbl&gt; | TEMP &lt;int&gt; | cbwd &lt;chr&gt; | Iws &lt;dbl&gt; | precipitation &lt;dbl&gt; | Iprec &lt;dbl&gt; |\n",
       "|---|---|---|---|---|---|---|---|---|---|---|---|---|---|---|---|---|---|\n",
       "| 26305 | 26305 | 2013 | 1 | 1 |  0 | 4 | 121 | 138 | 129 | -4 | 64.42 | 1022 |  2 | cv | 1 | 0 | 0 |\n",
       "| 26306 | 26306 | 2013 | 1 | 1 |  1 | 4 | 134 | 159 | 135 | -3 | 80.19 | 1022 |  0 | cv | 1 | 0 | 0 |\n",
       "| 26318 | 26318 | 2013 | 1 | 1 | 13 | 4 | 159 | 181 | 132 | -9 | 26.99 | 1018 |  9 | SW | 1 | 0 | 0 |\n",
       "| 26319 | 26319 | 2013 | 1 | 1 | 14 | 4 | 168 | 184 | 100 | -8 | 27.29 | 1017 | 10 | SW | 2 | 0 | 0 |\n",
       "| 26320 | 26320 | 2013 | 1 | 1 | 15 | 4 | 143 | 162 | 101 | -7 | 29.48 | 1015 | 10 | NE | 2 | 0 | 0 |\n",
       "| 26321 | 26321 | 2013 | 1 | 1 | 16 | 4 | 113 | 151 |  91 | -7 | 29.48 | 1015 | 10 | NE | 4 | 0 | 0 |\n",
       "\n"
      ],
      "text/plain": [
       "      No    year month day hour season PM_Caotangsi PM_Shahepu PM_US.Post DEWP\n",
       "26305 26305 2013 1     1    0   4      121          138        129        -4  \n",
       "26306 26306 2013 1     1    1   4      134          159        135        -3  \n",
       "26318 26318 2013 1     1   13   4      159          181        132        -9  \n",
       "26319 26319 2013 1     1   14   4      168          184        100        -8  \n",
       "26320 26320 2013 1     1   15   4      143          162        101        -7  \n",
       "26321 26321 2013 1     1   16   4      113          151         91        -7  \n",
       "      HUMI  PRES TEMP cbwd Iws precipitation Iprec\n",
       "26305 64.42 1022  2   cv   1   0             0    \n",
       "26306 80.19 1022  0   cv   1   0             0    \n",
       "26318 26.99 1018  9   SW   1   0             0    \n",
       "26319 27.29 1017 10   SW   2   0             0    \n",
       "26320 29.48 1015 10   NE   2   0             0    \n",
       "26321 29.48 1015 10   NE   4   0             0    "
      ]
     },
     "metadata": {},
     "output_type": "display_data"
    },
    {
     "data": {
      "text/html": [
       "<table class=\"dataframe\">\n",
       "<caption>A data.frame: 6 × 17</caption>\n",
       "<thead>\n",
       "\t<tr><th></th><th scope=col>No</th><th scope=col>year</th><th scope=col>month</th><th scope=col>day</th><th scope=col>hour</th><th scope=col>season</th><th scope=col>PM_City.Station</th><th scope=col>PM_5th.Middle.School</th><th scope=col>PM_US.Post</th><th scope=col>DEWP</th><th scope=col>HUMI</th><th scope=col>PRES</th><th scope=col>TEMP</th><th scope=col>cbwd</th><th scope=col>Iws</th><th scope=col>precipitation</th><th scope=col>Iprec</th></tr>\n",
       "\t<tr><th></th><th scope=col>&lt;int&gt;</th><th scope=col>&lt;int&gt;</th><th scope=col>&lt;int&gt;</th><th scope=col>&lt;int&gt;</th><th scope=col>&lt;int&gt;</th><th scope=col>&lt;int&gt;</th><th scope=col>&lt;int&gt;</th><th scope=col>&lt;int&gt;</th><th scope=col>&lt;int&gt;</th><th scope=col>&lt;dbl&gt;</th><th scope=col>&lt;int&gt;</th><th scope=col>&lt;dbl&gt;</th><th scope=col>&lt;dbl&gt;</th><th scope=col>&lt;chr&gt;</th><th scope=col>&lt;dbl&gt;</th><th scope=col>&lt;dbl&gt;</th><th scope=col>&lt;dbl&gt;</th></tr>\n",
       "</thead>\n",
       "<tbody>\n",
       "\t<tr><th scope=row>26305</th><td>26305</td><td>2013</td><td>1</td><td>1</td><td>0</td><td>4</td><td>83</td><td>78</td><td>83</td><td>3.7</td><td>91</td><td>1014.2</td><td>5.0</td><td>NW</td><td> 1.9</td><td>0</td><td>0</td></tr>\n",
       "\t<tr><th scope=row>26306</th><td>26306</td><td>2013</td><td>1</td><td>1</td><td>1</td><td>4</td><td>95</td><td>70</td><td>95</td><td>4.2</td><td>88</td><td>1014.2</td><td>6.0</td><td>NW</td><td> 3.4</td><td>0</td><td>0</td></tr>\n",
       "\t<tr><th scope=row>26308</th><td>26308</td><td>2013</td><td>1</td><td>1</td><td>3</td><td>4</td><td>55</td><td>66</td><td>55</td><td>3.5</td><td>76</td><td>1013.9</td><td>7.5</td><td>NW</td><td> 5.8</td><td>0</td><td>0</td></tr>\n",
       "\t<tr><th scope=row>26309</th><td>26309</td><td>2013</td><td>1</td><td>1</td><td>4</td><td>4</td><td>60</td><td>69</td><td>60</td><td>2.7</td><td>69</td><td>1013.9</td><td>8.0</td><td>NW</td><td> 8.2</td><td>0</td><td>0</td></tr>\n",
       "\t<tr><th scope=row>26310</th><td>26310</td><td>2013</td><td>1</td><td>1</td><td>5</td><td>4</td><td>41</td><td>51</td><td>41</td><td>1.5</td><td>62</td><td>1014.2</td><td>8.4</td><td>NW</td><td> 9.0</td><td>0</td><td>0</td></tr>\n",
       "\t<tr><th scope=row>26311</th><td>26311</td><td>2013</td><td>1</td><td>1</td><td>6</td><td>4</td><td>42</td><td>39</td><td>42</td><td>2.3</td><td>66</td><td>1014.3</td><td>8.3</td><td>NW</td><td>11.4</td><td>0</td><td>0</td></tr>\n",
       "</tbody>\n",
       "</table>\n"
      ],
      "text/latex": [
       "A data.frame: 6 × 17\n",
       "\\begin{tabular}{r|lllllllllllllllll}\n",
       "  & No & year & month & day & hour & season & PM\\_City.Station & PM\\_5th.Middle.School & PM\\_US.Post & DEWP & HUMI & PRES & TEMP & cbwd & Iws & precipitation & Iprec\\\\\n",
       "  & <int> & <int> & <int> & <int> & <int> & <int> & <int> & <int> & <int> & <dbl> & <int> & <dbl> & <dbl> & <chr> & <dbl> & <dbl> & <dbl>\\\\\n",
       "\\hline\n",
       "\t26305 & 26305 & 2013 & 1 & 1 & 0 & 4 & 83 & 78 & 83 & 3.7 & 91 & 1014.2 & 5.0 & NW &  1.9 & 0 & 0\\\\\n",
       "\t26306 & 26306 & 2013 & 1 & 1 & 1 & 4 & 95 & 70 & 95 & 4.2 & 88 & 1014.2 & 6.0 & NW &  3.4 & 0 & 0\\\\\n",
       "\t26308 & 26308 & 2013 & 1 & 1 & 3 & 4 & 55 & 66 & 55 & 3.5 & 76 & 1013.9 & 7.5 & NW &  5.8 & 0 & 0\\\\\n",
       "\t26309 & 26309 & 2013 & 1 & 1 & 4 & 4 & 60 & 69 & 60 & 2.7 & 69 & 1013.9 & 8.0 & NW &  8.2 & 0 & 0\\\\\n",
       "\t26310 & 26310 & 2013 & 1 & 1 & 5 & 4 & 41 & 51 & 41 & 1.5 & 62 & 1014.2 & 8.4 & NW &  9.0 & 0 & 0\\\\\n",
       "\t26311 & 26311 & 2013 & 1 & 1 & 6 & 4 & 42 & 39 & 42 & 2.3 & 66 & 1014.3 & 8.3 & NW & 11.4 & 0 & 0\\\\\n",
       "\\end{tabular}\n"
      ],
      "text/markdown": [
       "\n",
       "A data.frame: 6 × 17\n",
       "\n",
       "| <!--/--> | No &lt;int&gt; | year &lt;int&gt; | month &lt;int&gt; | day &lt;int&gt; | hour &lt;int&gt; | season &lt;int&gt; | PM_City.Station &lt;int&gt; | PM_5th.Middle.School &lt;int&gt; | PM_US.Post &lt;int&gt; | DEWP &lt;dbl&gt; | HUMI &lt;int&gt; | PRES &lt;dbl&gt; | TEMP &lt;dbl&gt; | cbwd &lt;chr&gt; | Iws &lt;dbl&gt; | precipitation &lt;dbl&gt; | Iprec &lt;dbl&gt; |\n",
       "|---|---|---|---|---|---|---|---|---|---|---|---|---|---|---|---|---|---|\n",
       "| 26305 | 26305 | 2013 | 1 | 1 | 0 | 4 | 83 | 78 | 83 | 3.7 | 91 | 1014.2 | 5.0 | NW |  1.9 | 0 | 0 |\n",
       "| 26306 | 26306 | 2013 | 1 | 1 | 1 | 4 | 95 | 70 | 95 | 4.2 | 88 | 1014.2 | 6.0 | NW |  3.4 | 0 | 0 |\n",
       "| 26308 | 26308 | 2013 | 1 | 1 | 3 | 4 | 55 | 66 | 55 | 3.5 | 76 | 1013.9 | 7.5 | NW |  5.8 | 0 | 0 |\n",
       "| 26309 | 26309 | 2013 | 1 | 1 | 4 | 4 | 60 | 69 | 60 | 2.7 | 69 | 1013.9 | 8.0 | NW |  8.2 | 0 | 0 |\n",
       "| 26310 | 26310 | 2013 | 1 | 1 | 5 | 4 | 41 | 51 | 41 | 1.5 | 62 | 1014.2 | 8.4 | NW |  9.0 | 0 | 0 |\n",
       "| 26311 | 26311 | 2013 | 1 | 1 | 6 | 4 | 42 | 39 | 42 | 2.3 | 66 | 1014.3 | 8.3 | NW | 11.4 | 0 | 0 |\n",
       "\n"
      ],
      "text/plain": [
       "      No    year month day hour season PM_City.Station PM_5th.Middle.School\n",
       "26305 26305 2013 1     1   0    4      83              78                  \n",
       "26306 26306 2013 1     1   1    4      95              70                  \n",
       "26308 26308 2013 1     1   3    4      55              66                  \n",
       "26309 26309 2013 1     1   4    4      60              69                  \n",
       "26310 26310 2013 1     1   5    4      41              51                  \n",
       "26311 26311 2013 1     1   6    4      42              39                  \n",
       "      PM_US.Post DEWP HUMI PRES   TEMP cbwd Iws  precipitation Iprec\n",
       "26305 83         3.7  91   1014.2 5.0  NW    1.9 0             0    \n",
       "26306 95         4.2  88   1014.2 6.0  NW    3.4 0             0    \n",
       "26308 55         3.5  76   1013.9 7.5  NW    5.8 0             0    \n",
       "26309 60         2.7  69   1013.9 8.0  NW    8.2 0             0    \n",
       "26310 41         1.5  62   1014.2 8.4  NW    9.0 0             0    \n",
       "26311 42         2.3  66   1014.3 8.3  NW   11.4 0             0    "
      ]
     },
     "metadata": {},
     "output_type": "display_data"
    },
    {
     "data": {
      "text/html": [
       "<table class=\"dataframe\">\n",
       "<caption>A data.frame: 6 × 17</caption>\n",
       "<thead>\n",
       "\t<tr><th></th><th scope=col>No</th><th scope=col>year</th><th scope=col>month</th><th scope=col>day</th><th scope=col>hour</th><th scope=col>season</th><th scope=col>PM_Taiyuanjie</th><th scope=col>PM_US.Post</th><th scope=col>PM_Xiaoheyan</th><th scope=col>DEWP</th><th scope=col>HUMI</th><th scope=col>PRES</th><th scope=col>TEMP</th><th scope=col>cbwd</th><th scope=col>Iws</th><th scope=col>precipitation</th><th scope=col>Iprec</th></tr>\n",
       "\t<tr><th></th><th scope=col>&lt;int&gt;</th><th scope=col>&lt;int&gt;</th><th scope=col>&lt;int&gt;</th><th scope=col>&lt;int&gt;</th><th scope=col>&lt;int&gt;</th><th scope=col>&lt;int&gt;</th><th scope=col>&lt;int&gt;</th><th scope=col>&lt;int&gt;</th><th scope=col>&lt;int&gt;</th><th scope=col>&lt;int&gt;</th><th scope=col>&lt;dbl&gt;</th><th scope=col>&lt;int&gt;</th><th scope=col>&lt;int&gt;</th><th scope=col>&lt;chr&gt;</th><th scope=col>&lt;dbl&gt;</th><th scope=col>&lt;dbl&gt;</th><th scope=col>&lt;dbl&gt;</th></tr>\n",
       "</thead>\n",
       "<tbody>\n",
       "\t<tr><th scope=row>28982</th><td>28982</td><td>2013</td><td>4</td><td>22</td><td>13</td><td>1</td><td>141</td><td>113</td><td>140</td><td>-1</td><td>25.89</td><td>1013</td><td>19</td><td>SW</td><td> 55</td><td>0</td><td>0</td></tr>\n",
       "\t<tr><th scope=row>29003</th><td>29003</td><td>2013</td><td>4</td><td>23</td><td>10</td><td>1</td><td> 59</td><td> 59</td><td> 49</td><td>-5</td><td>26.40</td><td>1012</td><td>14</td><td>SW</td><td> 17</td><td>0</td><td>0</td></tr>\n",
       "\t<tr><th scope=row>29009</th><td>29009</td><td>2013</td><td>4</td><td>23</td><td>16</td><td>1</td><td>200</td><td>106</td><td>152</td><td> 2</td><td>50.36</td><td>1010</td><td>12</td><td>SW</td><td> 56</td><td>0</td><td>0</td></tr>\n",
       "\t<tr><th scope=row>29025</th><td>29025</td><td>2013</td><td>4</td><td>24</td><td> 8</td><td>1</td><td>120</td><td>136</td><td>137</td><td> 6</td><td>87.19</td><td>1010</td><td> 8</td><td>SW</td><td> 33</td><td>0</td><td>0</td></tr>\n",
       "\t<tr><th scope=row>29033</th><td>29033</td><td>2013</td><td>4</td><td>24</td><td>16</td><td>1</td><td> 11</td><td> 23</td><td> 10</td><td>-4</td><td>23.50</td><td>1006</td><td>17</td><td>SW</td><td> 69</td><td>0</td><td>0</td></tr>\n",
       "\t<tr><th scope=row>29038</th><td>29038</td><td>2013</td><td>4</td><td>24</td><td>21</td><td>1</td><td> 17</td><td> 18</td><td> 13</td><td> 4</td><td>66.27</td><td>1008</td><td>10</td><td>SW</td><td>100</td><td>0</td><td>0</td></tr>\n",
       "</tbody>\n",
       "</table>\n"
      ],
      "text/latex": [
       "A data.frame: 6 × 17\n",
       "\\begin{tabular}{r|lllllllllllllllll}\n",
       "  & No & year & month & day & hour & season & PM\\_Taiyuanjie & PM\\_US.Post & PM\\_Xiaoheyan & DEWP & HUMI & PRES & TEMP & cbwd & Iws & precipitation & Iprec\\\\\n",
       "  & <int> & <int> & <int> & <int> & <int> & <int> & <int> & <int> & <int> & <int> & <dbl> & <int> & <int> & <chr> & <dbl> & <dbl> & <dbl>\\\\\n",
       "\\hline\n",
       "\t28982 & 28982 & 2013 & 4 & 22 & 13 & 1 & 141 & 113 & 140 & -1 & 25.89 & 1013 & 19 & SW &  55 & 0 & 0\\\\\n",
       "\t29003 & 29003 & 2013 & 4 & 23 & 10 & 1 &  59 &  59 &  49 & -5 & 26.40 & 1012 & 14 & SW &  17 & 0 & 0\\\\\n",
       "\t29009 & 29009 & 2013 & 4 & 23 & 16 & 1 & 200 & 106 & 152 &  2 & 50.36 & 1010 & 12 & SW &  56 & 0 & 0\\\\\n",
       "\t29025 & 29025 & 2013 & 4 & 24 &  8 & 1 & 120 & 136 & 137 &  6 & 87.19 & 1010 &  8 & SW &  33 & 0 & 0\\\\\n",
       "\t29033 & 29033 & 2013 & 4 & 24 & 16 & 1 &  11 &  23 &  10 & -4 & 23.50 & 1006 & 17 & SW &  69 & 0 & 0\\\\\n",
       "\t29038 & 29038 & 2013 & 4 & 24 & 21 & 1 &  17 &  18 &  13 &  4 & 66.27 & 1008 & 10 & SW & 100 & 0 & 0\\\\\n",
       "\\end{tabular}\n"
      ],
      "text/markdown": [
       "\n",
       "A data.frame: 6 × 17\n",
       "\n",
       "| <!--/--> | No &lt;int&gt; | year &lt;int&gt; | month &lt;int&gt; | day &lt;int&gt; | hour &lt;int&gt; | season &lt;int&gt; | PM_Taiyuanjie &lt;int&gt; | PM_US.Post &lt;int&gt; | PM_Xiaoheyan &lt;int&gt; | DEWP &lt;int&gt; | HUMI &lt;dbl&gt; | PRES &lt;int&gt; | TEMP &lt;int&gt; | cbwd &lt;chr&gt; | Iws &lt;dbl&gt; | precipitation &lt;dbl&gt; | Iprec &lt;dbl&gt; |\n",
       "|---|---|---|---|---|---|---|---|---|---|---|---|---|---|---|---|---|---|\n",
       "| 28982 | 28982 | 2013 | 4 | 22 | 13 | 1 | 141 | 113 | 140 | -1 | 25.89 | 1013 | 19 | SW |  55 | 0 | 0 |\n",
       "| 29003 | 29003 | 2013 | 4 | 23 | 10 | 1 |  59 |  59 |  49 | -5 | 26.40 | 1012 | 14 | SW |  17 | 0 | 0 |\n",
       "| 29009 | 29009 | 2013 | 4 | 23 | 16 | 1 | 200 | 106 | 152 |  2 | 50.36 | 1010 | 12 | SW |  56 | 0 | 0 |\n",
       "| 29025 | 29025 | 2013 | 4 | 24 |  8 | 1 | 120 | 136 | 137 |  6 | 87.19 | 1010 |  8 | SW |  33 | 0 | 0 |\n",
       "| 29033 | 29033 | 2013 | 4 | 24 | 16 | 1 |  11 |  23 |  10 | -4 | 23.50 | 1006 | 17 | SW |  69 | 0 | 0 |\n",
       "| 29038 | 29038 | 2013 | 4 | 24 | 21 | 1 |  17 |  18 |  13 |  4 | 66.27 | 1008 | 10 | SW | 100 | 0 | 0 |\n",
       "\n"
      ],
      "text/plain": [
       "      No    year month day hour season PM_Taiyuanjie PM_US.Post PM_Xiaoheyan\n",
       "28982 28982 2013 4     22  13   1      141           113        140         \n",
       "29003 29003 2013 4     23  10   1       59            59         49         \n",
       "29009 29009 2013 4     23  16   1      200           106        152         \n",
       "29025 29025 2013 4     24   8   1      120           136        137         \n",
       "29033 29033 2013 4     24  16   1       11            23         10         \n",
       "29038 29038 2013 4     24  21   1       17            18         13         \n",
       "      DEWP HUMI  PRES TEMP cbwd Iws precipitation Iprec\n",
       "28982 -1   25.89 1013 19   SW    55 0             0    \n",
       "29003 -5   26.40 1012 14   SW    17 0             0    \n",
       "29009  2   50.36 1010 12   SW    56 0             0    \n",
       "29025  6   87.19 1010  8   SW    33 0             0    \n",
       "29033 -4   23.50 1006 17   SW    69 0             0    \n",
       "29038  4   66.27 1008 10   SW   100 0             0    "
      ]
     },
     "metadata": {},
     "output_type": "display_data"
    }
   ],
   "source": [
    "# Need to merge tables \n",
    "\n",
    "beijing_PM2.5 <- read.csv(\"https://raw.githubusercontent.com/Nick-2003/STAT-201-Group-46-Project/main/Data%20Sets/BeijingPM20100101_20151231.csv\")\n",
    "# beijing_PM2.5 <- read.csv(\"https://github.com/Nick-2003/STAT-201-Group-46-Project/raw/main/Data%20Sets/BeijingPM20100101_20151231.csv\")\n",
    "beijing_PM2.5 <- na.omit(beijing_PM2.5)\n",
    "head(beijing_PM2.5)\n",
    "\n",
    "shanghai_PM2.5 <- read.csv(\"https://raw.githubusercontent.com/Nick-2003/STAT-201-Group-46-Project/main/Data%20Sets/ShanghaiPM20100101_20151231.csv\")\n",
    "shanghai_PM2.5 <- na.omit(shanghai_PM2.5)\n",
    "head(shanghai_PM2.5)\n",
    "\n",
    "chengdu_PM2.5 <- read.csv(\"https://raw.githubusercontent.com/Nick-2003/STAT-201-Group-46-Project/main/Data%20Sets/ChengduPM20100101_20151231.csv\")\n",
    "chengdu_PM2.5 <- na.omit(chengdu_PM2.5)\n",
    "head(chengdu_PM2.5)\n",
    "\n",
    "guangzhou_PM2.5 <- read.csv(\"https://raw.githubusercontent.com/Nick-2003/STAT-201-Group-46-Project/main/Data%20Sets/GuangzhouPM20100101_20151231.csv\")\n",
    "guangzhou_PM2.5 <- na.omit(guangzhou_PM2.5)\n",
    "head(guangzhou_PM2.5)\n",
    "\n",
    "shenyang_PM2.5 <- read.csv(\"https://raw.githubusercontent.com/Nick-2003/STAT-201-Group-46-Project/main/Data%20Sets/ShenyangPM20100101_20151231.csv\")\n",
    "shenyang_PM2.5 <- na.omit(shenyang_PM2.5)\n",
    "head(shenyang_PM2.5)"
   ]
  },
  {
   "cell_type": "markdown",
   "id": "b6348ebd-2bc1-4284-a74b-f2ed660526e7",
   "metadata": {},
   "source": [
    "## Methods: Plan\n",
    "\n"
   ]
  },
  {
   "cell_type": "markdown",
   "id": "adc8edbf-b570-4ee9-abcb-d33e713a6074",
   "metadata": {},
   "source": [
    "## References\n",
    "\n",
    "<!-- - Liang, X., S. Li, S. Zhang, H. Huang, and S. X. Chen (2016), PM2.5 data reliability, consistency, and air quality assessment in five Chinese cities, J. Geophys. Res. Atmos., 121, 10220â€“10236 doi:10.1002/2016JD024877 -->\n",
    "- Liang, X. (2016). PM 2.5 data reliability, consistency, and air quality assessment in five chinese cities CONSISTENCY IN CHINA'S PM 2.5 DATA doi:10.1002/2016JD024877\n",
    "- "
   ]
  },
  {
   "cell_type": "code",
   "execution_count": null,
   "id": "8787d9d8-6abb-4a0c-9abb-6afde1b416d3",
   "metadata": {},
   "outputs": [],
   "source": []
  }
 ],
 "metadata": {
  "kernelspec": {
   "display_name": "R",
   "language": "R",
   "name": "ir"
  },
  "language_info": {
   "codemirror_mode": "r",
   "file_extension": ".r",
   "mimetype": "text/x-r-source",
   "name": "R",
   "pygments_lexer": "r",
   "version": "4.2.2"
  }
 },
 "nbformat": 4,
 "nbformat_minor": 5
}
