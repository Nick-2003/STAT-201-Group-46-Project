{
 "cells": [
  {
   "cell_type": "markdown",
   "id": "175ea34f-9cde-40c2-ba3e-179921e291d7",
   "metadata": {},
   "source": [
    "# STAT 201 \n",
    "## Group 46\n",
    "### Tsun Li Nicholas Tam, Camila Dall Bello, Leon Zhang\n"
   ]
  },
  {
   "cell_type": "code",
   "execution_count": 3,
   "id": "cf21c564-3f93-4905-bcfa-8f965a08fc2d",
   "metadata": {},
   "outputs": [
    {
     "name": "stderr",
     "output_type": "stream",
     "text": [
      "\n",
      "Attaching package: ‘dplyr’\n",
      "\n",
      "\n",
      "The following objects are masked from ‘package:stats’:\n",
      "\n",
      "    filter, lag\n",
      "\n",
      "\n",
      "The following objects are masked from ‘package:base’:\n",
      "\n",
      "    intersect, setdiff, setequal, union\n",
      "\n",
      "\n",
      "\n",
      "Attaching package: ‘gridExtra’\n",
      "\n",
      "\n",
      "The following object is masked from ‘package:dplyr’:\n",
      "\n",
      "    combine\n",
      "\n",
      "\n",
      "Warning message in system(\"timedatectl\", intern = TRUE):\n",
      "“running command 'timedatectl' had status 1”\n",
      "── \u001b[1mAttaching packages\u001b[22m ─────────────────────────────────────── tidyverse 1.3.2 ──\n",
      "\u001b[32m✔\u001b[39m \u001b[34mggplot2\u001b[39m 3.4.0     \u001b[32m✔\u001b[39m \u001b[34mpurrr  \u001b[39m 1.0.0\n",
      "\u001b[32m✔\u001b[39m \u001b[34mtibble \u001b[39m 3.1.8     \u001b[32m✔\u001b[39m \u001b[34mstringr\u001b[39m 1.5.0\n",
      "\u001b[32m✔\u001b[39m \u001b[34mtidyr  \u001b[39m 1.2.1     \u001b[32m✔\u001b[39m \u001b[34mforcats\u001b[39m 0.5.2\n",
      "\u001b[32m✔\u001b[39m \u001b[34mreadr  \u001b[39m 2.1.3     \n",
      "── \u001b[1mConflicts\u001b[22m ────────────────────────────────────────── tidyverse_conflicts() ──\n",
      "\u001b[31m✖\u001b[39m \u001b[34mgridExtra\u001b[39m::\u001b[32mcombine()\u001b[39m masks \u001b[34mdplyr\u001b[39m::combine()\n",
      "\u001b[31m✖\u001b[39m \u001b[34mdplyr\u001b[39m::\u001b[32mfilter()\u001b[39m      masks \u001b[34mstats\u001b[39m::filter()\n",
      "\u001b[31m✖\u001b[39m \u001b[34mdplyr\u001b[39m::\u001b[32mlag()\u001b[39m         masks \u001b[34mstats\u001b[39m::lag()\n",
      "Loading required package: timechange\n",
      "\n",
      "\n",
      "Attaching package: ‘lubridate’\n",
      "\n",
      "\n",
      "The following objects are masked from ‘package:base’:\n",
      "\n",
      "    date, intersect, setdiff, union\n",
      "\n",
      "\n"
     ]
    }
   ],
   "source": [
    "# Imports\n",
    "\n",
    "# library(cowplot)\n",
    "library(dplyr)\n",
    "library(gridExtra)\n",
    "library(tidyverse)\n",
    "library(repr)\n",
    "# library(infer)\n",
    "library(repr)\n",
    "# library(datateachr)\n",
    "library(digest)\n",
    "library(lubridate)\n",
    "# library(taxyvr)"
   ]
  },
  {
   "cell_type": "markdown",
   "id": "c7b325ea-8cb3-4e0c-8829-0a6cebec4f58",
   "metadata": {
    "tags": []
   },
   "source": [
    "## Introduction\n",
    "### Background Information\n",
    "From 2010 to 2013, substantial parts of China have suffered from chronic air pollution. The main pollutants are PM2.5, otherwise known as particulate matter, referring to tiny particles in the air with aerodynamic diameters of 2.5 micrometers (2.5 * 10^(-6) m or 2.5 μm) or less. PM2.5 consists of a complex mixture of solids and aerosols, with particles containing various organic and inorganic compounds. (Inhalable Particulate Matter and Health (PM2.5 and PM10)) \n",
    "\n",
    "The presence of high concentrations of PM2.5 in China from 2010 to 2013 has negatively influenced the climate, visibility, and human health, with the most notable case being the Eastern China smog outbreak in December 2013, where PM2.5 levels reached as high as 507 micrograms per cubic metre (507 * 10^(-6) g/m^3). (Con Gen ShanghaiAir, 2013) In an attempt to reduce air pollution, the Chinese government issued a National Air Quality Action Plan, aiming to significantly reduce the concentrations of PM2.5 in China by 2017. (Andrews-Speed, P., Shobert., B. A., Zhidong, L., &amp; Herberg, M. E., 2015)\n",
    "\n",
    "### Dataset and Project Question\n",
    "For our research project, we have selected datasets of hourly observations of PM2.5 concentration from 1-1-2013 to 12-31-2015. These datasets were retrieved from https://archive.ics.uci.edu/ml/datasets/PM2.5+Data+of+Five+Chinese+Cities and converted to CSV files online, containing the PM2.5 data in Beijing, Shanghai, Guangzhou, Chengdu and Shenyang, along with other meteorological data for each city.\n",
    "\n",
    "\n",
    "\n",
    "<!-- Generalisations based on sample -->\n",
    "<!-- Differences in locations -->"
   ]
  },
  {
   "cell_type": "markdown",
   "id": "cff5df47-0753-45f0-bb4f-c14e4beb8805",
   "metadata": {},
   "source": [
    "## Preliminary Results\n",
    "\n"
   ]
  },
  {
   "cell_type": "code",
   "execution_count": 4,
   "id": "91b1fcc6-7cbd-4560-a2ec-f7263dcacf0b",
   "metadata": {},
   "outputs": [
    {
     "data": {
      "text/html": [
       "<table class=\"dataframe\">\n",
       "<caption>A data.frame: 6 × 11</caption>\n",
       "<thead>\n",
       "\t<tr><th></th><th scope=col>year</th><th scope=col>month</th><th scope=col>day</th><th scope=col>hour</th><th scope=col>PM_2.5_AV</th><th scope=col>DEWP</th><th scope=col>HUMI</th><th scope=col>PRES</th><th scope=col>TEMP</th><th scope=col>cbwd</th><th scope=col>Iws</th></tr>\n",
       "\t<tr><th></th><th scope=col>&lt;int&gt;</th><th scope=col>&lt;int&gt;</th><th scope=col>&lt;int&gt;</th><th scope=col>&lt;int&gt;</th><th scope=col>&lt;dbl&gt;</th><th scope=col>&lt;int&gt;</th><th scope=col>&lt;dbl&gt;</th><th scope=col>&lt;dbl&gt;</th><th scope=col>&lt;dbl&gt;</th><th scope=col>&lt;chr&gt;</th><th scope=col>&lt;dbl&gt;</th></tr>\n",
       "</thead>\n",
       "<tbody>\n",
       "\t<tr><th scope=row>27825</th><td>2013</td><td>3</td><td>5</td><td> 8</td><td>141.0000</td><td> -6</td><td>59</td><td>1019</td><td> 1</td><td>cv</td><td>0.89</td></tr>\n",
       "\t<tr><th scope=row>27826</th><td>2013</td><td>3</td><td>5</td><td> 9</td><td>149.3333</td><td> -8</td><td>38</td><td>1019</td><td> 5</td><td>cv</td><td>1.78</td></tr>\n",
       "\t<tr><th scope=row>27827</th><td>2013</td><td>3</td><td>5</td><td>10</td><td>147.3333</td><td> -8</td><td>31</td><td>1018</td><td> 8</td><td>cv</td><td>2.67</td></tr>\n",
       "\t<tr><th scope=row>27829</th><td>2013</td><td>3</td><td>5</td><td>12</td><td>118.0000</td><td> -9</td><td>23</td><td>1017</td><td>11</td><td>cv</td><td>4.45</td></tr>\n",
       "\t<tr><th scope=row>27830</th><td>2013</td><td>3</td><td>5</td><td>13</td><td>113.6667</td><td> -9</td><td>22</td><td>1015</td><td>12</td><td>cv</td><td>5.34</td></tr>\n",
       "\t<tr><th scope=row>27831</th><td>2013</td><td>3</td><td>5</td><td>14</td><td>173.3333</td><td>-10</td><td>19</td><td>1014</td><td>13</td><td>cv</td><td>7.13</td></tr>\n",
       "</tbody>\n",
       "</table>\n"
      ],
      "text/latex": [
       "A data.frame: 6 × 11\n",
       "\\begin{tabular}{r|lllllllllll}\n",
       "  & year & month & day & hour & PM\\_2.5\\_AV & DEWP & HUMI & PRES & TEMP & cbwd & Iws\\\\\n",
       "  & <int> & <int> & <int> & <int> & <dbl> & <int> & <dbl> & <dbl> & <dbl> & <chr> & <dbl>\\\\\n",
       "\\hline\n",
       "\t27825 & 2013 & 3 & 5 &  8 & 141.0000 &  -6 & 59 & 1019 &  1 & cv & 0.89\\\\\n",
       "\t27826 & 2013 & 3 & 5 &  9 & 149.3333 &  -8 & 38 & 1019 &  5 & cv & 1.78\\\\\n",
       "\t27827 & 2013 & 3 & 5 & 10 & 147.3333 &  -8 & 31 & 1018 &  8 & cv & 2.67\\\\\n",
       "\t27829 & 2013 & 3 & 5 & 12 & 118.0000 &  -9 & 23 & 1017 & 11 & cv & 4.45\\\\\n",
       "\t27830 & 2013 & 3 & 5 & 13 & 113.6667 &  -9 & 22 & 1015 & 12 & cv & 5.34\\\\\n",
       "\t27831 & 2013 & 3 & 5 & 14 & 173.3333 & -10 & 19 & 1014 & 13 & cv & 7.13\\\\\n",
       "\\end{tabular}\n"
      ],
      "text/markdown": [
       "\n",
       "A data.frame: 6 × 11\n",
       "\n",
       "| <!--/--> | year &lt;int&gt; | month &lt;int&gt; | day &lt;int&gt; | hour &lt;int&gt; | PM_2.5_AV &lt;dbl&gt; | DEWP &lt;int&gt; | HUMI &lt;dbl&gt; | PRES &lt;dbl&gt; | TEMP &lt;dbl&gt; | cbwd &lt;chr&gt; | Iws &lt;dbl&gt; |\n",
       "|---|---|---|---|---|---|---|---|---|---|---|---|\n",
       "| 27825 | 2013 | 3 | 5 |  8 | 141.0000 |  -6 | 59 | 1019 |  1 | cv | 0.89 |\n",
       "| 27826 | 2013 | 3 | 5 |  9 | 149.3333 |  -8 | 38 | 1019 |  5 | cv | 1.78 |\n",
       "| 27827 | 2013 | 3 | 5 | 10 | 147.3333 |  -8 | 31 | 1018 |  8 | cv | 2.67 |\n",
       "| 27829 | 2013 | 3 | 5 | 12 | 118.0000 |  -9 | 23 | 1017 | 11 | cv | 4.45 |\n",
       "| 27830 | 2013 | 3 | 5 | 13 | 113.6667 |  -9 | 22 | 1015 | 12 | cv | 5.34 |\n",
       "| 27831 | 2013 | 3 | 5 | 14 | 173.3333 | -10 | 19 | 1014 | 13 | cv | 7.13 |\n",
       "\n"
      ],
      "text/plain": [
       "      year month day hour PM_2.5_AV DEWP HUMI PRES TEMP cbwd Iws \n",
       "27825 2013 3     5    8   141.0000   -6  59   1019  1   cv   0.89\n",
       "27826 2013 3     5    9   149.3333   -8  38   1019  5   cv   1.78\n",
       "27827 2013 3     5   10   147.3333   -8  31   1018  8   cv   2.67\n",
       "27829 2013 3     5   12   118.0000   -9  23   1017 11   cv   4.45\n",
       "27830 2013 3     5   13   113.6667   -9  22   1015 12   cv   5.34\n",
       "27831 2013 3     5   14   173.3333  -10  19   1014 13   cv   7.13"
      ]
     },
     "metadata": {},
     "output_type": "display_data"
    },
    {
     "data": {
      "text/html": [
       "<table class=\"dataframe\">\n",
       "<caption>A data.frame: 6 × 11</caption>\n",
       "<thead>\n",
       "\t<tr><th></th><th scope=col>year</th><th scope=col>month</th><th scope=col>day</th><th scope=col>hour</th><th scope=col>PM_2.5_AV</th><th scope=col>DEWP</th><th scope=col>HUMI</th><th scope=col>PRES</th><th scope=col>TEMP</th><th scope=col>cbwd</th><th scope=col>Iws</th></tr>\n",
       "\t<tr><th></th><th scope=col>&lt;int&gt;</th><th scope=col>&lt;int&gt;</th><th scope=col>&lt;int&gt;</th><th scope=col>&lt;int&gt;</th><th scope=col>&lt;dbl&gt;</th><th scope=col>&lt;int&gt;</th><th scope=col>&lt;dbl&gt;</th><th scope=col>&lt;dbl&gt;</th><th scope=col>&lt;int&gt;</th><th scope=col>&lt;chr&gt;</th><th scope=col>&lt;dbl&gt;</th></tr>\n",
       "</thead>\n",
       "<tbody>\n",
       "\t<tr><th scope=row>26305</th><td>2013</td><td>1</td><td>1</td><td>0</td><td>69.00000</td><td>-5</td><td>69.00</td><td>1023</td><td> 0</td><td>SW</td><td>60</td></tr>\n",
       "\t<tr><th scope=row>26306</th><td>2013</td><td>1</td><td>1</td><td>1</td><td>71.66667</td><td>-5</td><td>69.00</td><td>1023</td><td> 0</td><td>SW</td><td>62</td></tr>\n",
       "\t<tr><th scope=row>26308</th><td>2013</td><td>1</td><td>1</td><td>3</td><td>75.00000</td><td>-4</td><td>74.41</td><td>1023</td><td> 0</td><td>SW</td><td>65</td></tr>\n",
       "\t<tr><th scope=row>26309</th><td>2013</td><td>1</td><td>1</td><td>4</td><td>76.33333</td><td>-4</td><td>80.04</td><td>1023</td><td>-1</td><td>SW</td><td>68</td></tr>\n",
       "\t<tr><th scope=row>26310</th><td>2013</td><td>1</td><td>1</td><td>5</td><td>77.00000</td><td>-4</td><td>80.04</td><td>1023</td><td>-1</td><td>SW</td><td>70</td></tr>\n",
       "\t<tr><th scope=row>26311</th><td>2013</td><td>1</td><td>1</td><td>6</td><td>76.00000</td><td>-4</td><td>80.04</td><td>1023</td><td>-1</td><td>SW</td><td>71</td></tr>\n",
       "</tbody>\n",
       "</table>\n"
      ],
      "text/latex": [
       "A data.frame: 6 × 11\n",
       "\\begin{tabular}{r|lllllllllll}\n",
       "  & year & month & day & hour & PM\\_2.5\\_AV & DEWP & HUMI & PRES & TEMP & cbwd & Iws\\\\\n",
       "  & <int> & <int> & <int> & <int> & <dbl> & <int> & <dbl> & <dbl> & <int> & <chr> & <dbl>\\\\\n",
       "\\hline\n",
       "\t26305 & 2013 & 1 & 1 & 0 & 69.00000 & -5 & 69.00 & 1023 &  0 & SW & 60\\\\\n",
       "\t26306 & 2013 & 1 & 1 & 1 & 71.66667 & -5 & 69.00 & 1023 &  0 & SW & 62\\\\\n",
       "\t26308 & 2013 & 1 & 1 & 3 & 75.00000 & -4 & 74.41 & 1023 &  0 & SW & 65\\\\\n",
       "\t26309 & 2013 & 1 & 1 & 4 & 76.33333 & -4 & 80.04 & 1023 & -1 & SW & 68\\\\\n",
       "\t26310 & 2013 & 1 & 1 & 5 & 77.00000 & -4 & 80.04 & 1023 & -1 & SW & 70\\\\\n",
       "\t26311 & 2013 & 1 & 1 & 6 & 76.00000 & -4 & 80.04 & 1023 & -1 & SW & 71\\\\\n",
       "\\end{tabular}\n"
      ],
      "text/markdown": [
       "\n",
       "A data.frame: 6 × 11\n",
       "\n",
       "| <!--/--> | year &lt;int&gt; | month &lt;int&gt; | day &lt;int&gt; | hour &lt;int&gt; | PM_2.5_AV &lt;dbl&gt; | DEWP &lt;int&gt; | HUMI &lt;dbl&gt; | PRES &lt;dbl&gt; | TEMP &lt;int&gt; | cbwd &lt;chr&gt; | Iws &lt;dbl&gt; |\n",
       "|---|---|---|---|---|---|---|---|---|---|---|---|\n",
       "| 26305 | 2013 | 1 | 1 | 0 | 69.00000 | -5 | 69.00 | 1023 |  0 | SW | 60 |\n",
       "| 26306 | 2013 | 1 | 1 | 1 | 71.66667 | -5 | 69.00 | 1023 |  0 | SW | 62 |\n",
       "| 26308 | 2013 | 1 | 1 | 3 | 75.00000 | -4 | 74.41 | 1023 |  0 | SW | 65 |\n",
       "| 26309 | 2013 | 1 | 1 | 4 | 76.33333 | -4 | 80.04 | 1023 | -1 | SW | 68 |\n",
       "| 26310 | 2013 | 1 | 1 | 5 | 77.00000 | -4 | 80.04 | 1023 | -1 | SW | 70 |\n",
       "| 26311 | 2013 | 1 | 1 | 6 | 76.00000 | -4 | 80.04 | 1023 | -1 | SW | 71 |\n",
       "\n"
      ],
      "text/plain": [
       "      year month day hour PM_2.5_AV DEWP HUMI  PRES TEMP cbwd Iws\n",
       "26305 2013 1     1   0    69.00000  -5   69.00 1023  0   SW   60 \n",
       "26306 2013 1     1   1    71.66667  -5   69.00 1023  0   SW   62 \n",
       "26308 2013 1     1   3    75.00000  -4   74.41 1023  0   SW   65 \n",
       "26309 2013 1     1   4    76.33333  -4   80.04 1023 -1   SW   68 \n",
       "26310 2013 1     1   5    77.00000  -4   80.04 1023 -1   SW   70 \n",
       "26311 2013 1     1   6    76.00000  -4   80.04 1023 -1   SW   71 "
      ]
     },
     "metadata": {},
     "output_type": "display_data"
    },
    {
     "data": {
      "text/html": [
       "<table class=\"dataframe\">\n",
       "<caption>A data.frame: 6 × 11</caption>\n",
       "<thead>\n",
       "\t<tr><th></th><th scope=col>year</th><th scope=col>month</th><th scope=col>day</th><th scope=col>hour</th><th scope=col>PM_2.5_AV</th><th scope=col>DEWP</th><th scope=col>HUMI</th><th scope=col>PRES</th><th scope=col>TEMP</th><th scope=col>cbwd</th><th scope=col>Iws</th></tr>\n",
       "\t<tr><th></th><th scope=col>&lt;int&gt;</th><th scope=col>&lt;int&gt;</th><th scope=col>&lt;int&gt;</th><th scope=col>&lt;int&gt;</th><th scope=col>&lt;dbl&gt;</th><th scope=col>&lt;int&gt;</th><th scope=col>&lt;dbl&gt;</th><th scope=col>&lt;dbl&gt;</th><th scope=col>&lt;int&gt;</th><th scope=col>&lt;chr&gt;</th><th scope=col>&lt;dbl&gt;</th></tr>\n",
       "</thead>\n",
       "<tbody>\n",
       "\t<tr><th scope=row>26305</th><td>2013</td><td>1</td><td>1</td><td> 0</td><td>129.3333</td><td>-4</td><td>64.42</td><td>1022</td><td> 2</td><td>cv</td><td>1</td></tr>\n",
       "\t<tr><th scope=row>26306</th><td>2013</td><td>1</td><td>1</td><td> 1</td><td>142.6667</td><td>-3</td><td>80.19</td><td>1022</td><td> 0</td><td>cv</td><td>1</td></tr>\n",
       "\t<tr><th scope=row>26318</th><td>2013</td><td>1</td><td>1</td><td>13</td><td>157.3333</td><td>-9</td><td>26.99</td><td>1018</td><td> 9</td><td>SW</td><td>1</td></tr>\n",
       "\t<tr><th scope=row>26319</th><td>2013</td><td>1</td><td>1</td><td>14</td><td>150.6667</td><td>-8</td><td>27.29</td><td>1017</td><td>10</td><td>SW</td><td>2</td></tr>\n",
       "\t<tr><th scope=row>26320</th><td>2013</td><td>1</td><td>1</td><td>15</td><td>135.3333</td><td>-7</td><td>29.48</td><td>1015</td><td>10</td><td>NE</td><td>2</td></tr>\n",
       "\t<tr><th scope=row>26321</th><td>2013</td><td>1</td><td>1</td><td>16</td><td>118.3333</td><td>-7</td><td>29.48</td><td>1015</td><td>10</td><td>NE</td><td>4</td></tr>\n",
       "</tbody>\n",
       "</table>\n"
      ],
      "text/latex": [
       "A data.frame: 6 × 11\n",
       "\\begin{tabular}{r|lllllllllll}\n",
       "  & year & month & day & hour & PM\\_2.5\\_AV & DEWP & HUMI & PRES & TEMP & cbwd & Iws\\\\\n",
       "  & <int> & <int> & <int> & <int> & <dbl> & <int> & <dbl> & <dbl> & <int> & <chr> & <dbl>\\\\\n",
       "\\hline\n",
       "\t26305 & 2013 & 1 & 1 &  0 & 129.3333 & -4 & 64.42 & 1022 &  2 & cv & 1\\\\\n",
       "\t26306 & 2013 & 1 & 1 &  1 & 142.6667 & -3 & 80.19 & 1022 &  0 & cv & 1\\\\\n",
       "\t26318 & 2013 & 1 & 1 & 13 & 157.3333 & -9 & 26.99 & 1018 &  9 & SW & 1\\\\\n",
       "\t26319 & 2013 & 1 & 1 & 14 & 150.6667 & -8 & 27.29 & 1017 & 10 & SW & 2\\\\\n",
       "\t26320 & 2013 & 1 & 1 & 15 & 135.3333 & -7 & 29.48 & 1015 & 10 & NE & 2\\\\\n",
       "\t26321 & 2013 & 1 & 1 & 16 & 118.3333 & -7 & 29.48 & 1015 & 10 & NE & 4\\\\\n",
       "\\end{tabular}\n"
      ],
      "text/markdown": [
       "\n",
       "A data.frame: 6 × 11\n",
       "\n",
       "| <!--/--> | year &lt;int&gt; | month &lt;int&gt; | day &lt;int&gt; | hour &lt;int&gt; | PM_2.5_AV &lt;dbl&gt; | DEWP &lt;int&gt; | HUMI &lt;dbl&gt; | PRES &lt;dbl&gt; | TEMP &lt;int&gt; | cbwd &lt;chr&gt; | Iws &lt;dbl&gt; |\n",
       "|---|---|---|---|---|---|---|---|---|---|---|---|\n",
       "| 26305 | 2013 | 1 | 1 |  0 | 129.3333 | -4 | 64.42 | 1022 |  2 | cv | 1 |\n",
       "| 26306 | 2013 | 1 | 1 |  1 | 142.6667 | -3 | 80.19 | 1022 |  0 | cv | 1 |\n",
       "| 26318 | 2013 | 1 | 1 | 13 | 157.3333 | -9 | 26.99 | 1018 |  9 | SW | 1 |\n",
       "| 26319 | 2013 | 1 | 1 | 14 | 150.6667 | -8 | 27.29 | 1017 | 10 | SW | 2 |\n",
       "| 26320 | 2013 | 1 | 1 | 15 | 135.3333 | -7 | 29.48 | 1015 | 10 | NE | 2 |\n",
       "| 26321 | 2013 | 1 | 1 | 16 | 118.3333 | -7 | 29.48 | 1015 | 10 | NE | 4 |\n",
       "\n"
      ],
      "text/plain": [
       "      year month day hour PM_2.5_AV DEWP HUMI  PRES TEMP cbwd Iws\n",
       "26305 2013 1     1    0   129.3333  -4   64.42 1022  2   cv   1  \n",
       "26306 2013 1     1    1   142.6667  -3   80.19 1022  0   cv   1  \n",
       "26318 2013 1     1   13   157.3333  -9   26.99 1018  9   SW   1  \n",
       "26319 2013 1     1   14   150.6667  -8   27.29 1017 10   SW   2  \n",
       "26320 2013 1     1   15   135.3333  -7   29.48 1015 10   NE   2  \n",
       "26321 2013 1     1   16   118.3333  -7   29.48 1015 10   NE   4  "
      ]
     },
     "metadata": {},
     "output_type": "display_data"
    },
    {
     "data": {
      "text/html": [
       "<table class=\"dataframe\">\n",
       "<caption>A data.frame: 6 × 11</caption>\n",
       "<thead>\n",
       "\t<tr><th></th><th scope=col>year</th><th scope=col>month</th><th scope=col>day</th><th scope=col>hour</th><th scope=col>PM_2.5_AV</th><th scope=col>DEWP</th><th scope=col>HUMI</th><th scope=col>PRES</th><th scope=col>TEMP</th><th scope=col>cbwd</th><th scope=col>Iws</th></tr>\n",
       "\t<tr><th></th><th scope=col>&lt;int&gt;</th><th scope=col>&lt;int&gt;</th><th scope=col>&lt;int&gt;</th><th scope=col>&lt;int&gt;</th><th scope=col>&lt;dbl&gt;</th><th scope=col>&lt;dbl&gt;</th><th scope=col>&lt;int&gt;</th><th scope=col>&lt;dbl&gt;</th><th scope=col>&lt;dbl&gt;</th><th scope=col>&lt;chr&gt;</th><th scope=col>&lt;dbl&gt;</th></tr>\n",
       "</thead>\n",
       "<tbody>\n",
       "\t<tr><th scope=row>26305</th><td>2013</td><td>1</td><td>1</td><td>0</td><td>81.33333</td><td>3.7</td><td>91</td><td>1014.2</td><td>5.0</td><td>NW</td><td> 1.9</td></tr>\n",
       "\t<tr><th scope=row>26306</th><td>2013</td><td>1</td><td>1</td><td>1</td><td>86.66667</td><td>4.2</td><td>88</td><td>1014.2</td><td>6.0</td><td>NW</td><td> 3.4</td></tr>\n",
       "\t<tr><th scope=row>26308</th><td>2013</td><td>1</td><td>1</td><td>3</td><td>58.66667</td><td>3.5</td><td>76</td><td>1013.9</td><td>7.5</td><td>NW</td><td> 5.8</td></tr>\n",
       "\t<tr><th scope=row>26309</th><td>2013</td><td>1</td><td>1</td><td>4</td><td>63.00000</td><td>2.7</td><td>69</td><td>1013.9</td><td>8.0</td><td>NW</td><td> 8.2</td></tr>\n",
       "\t<tr><th scope=row>26310</th><td>2013</td><td>1</td><td>1</td><td>5</td><td>44.33333</td><td>1.5</td><td>62</td><td>1014.2</td><td>8.4</td><td>NW</td><td> 9.0</td></tr>\n",
       "\t<tr><th scope=row>26311</th><td>2013</td><td>1</td><td>1</td><td>6</td><td>41.00000</td><td>2.3</td><td>66</td><td>1014.3</td><td>8.3</td><td>NW</td><td>11.4</td></tr>\n",
       "</tbody>\n",
       "</table>\n"
      ],
      "text/latex": [
       "A data.frame: 6 × 11\n",
       "\\begin{tabular}{r|lllllllllll}\n",
       "  & year & month & day & hour & PM\\_2.5\\_AV & DEWP & HUMI & PRES & TEMP & cbwd & Iws\\\\\n",
       "  & <int> & <int> & <int> & <int> & <dbl> & <dbl> & <int> & <dbl> & <dbl> & <chr> & <dbl>\\\\\n",
       "\\hline\n",
       "\t26305 & 2013 & 1 & 1 & 0 & 81.33333 & 3.7 & 91 & 1014.2 & 5.0 & NW &  1.9\\\\\n",
       "\t26306 & 2013 & 1 & 1 & 1 & 86.66667 & 4.2 & 88 & 1014.2 & 6.0 & NW &  3.4\\\\\n",
       "\t26308 & 2013 & 1 & 1 & 3 & 58.66667 & 3.5 & 76 & 1013.9 & 7.5 & NW &  5.8\\\\\n",
       "\t26309 & 2013 & 1 & 1 & 4 & 63.00000 & 2.7 & 69 & 1013.9 & 8.0 & NW &  8.2\\\\\n",
       "\t26310 & 2013 & 1 & 1 & 5 & 44.33333 & 1.5 & 62 & 1014.2 & 8.4 & NW &  9.0\\\\\n",
       "\t26311 & 2013 & 1 & 1 & 6 & 41.00000 & 2.3 & 66 & 1014.3 & 8.3 & NW & 11.4\\\\\n",
       "\\end{tabular}\n"
      ],
      "text/markdown": [
       "\n",
       "A data.frame: 6 × 11\n",
       "\n",
       "| <!--/--> | year &lt;int&gt; | month &lt;int&gt; | day &lt;int&gt; | hour &lt;int&gt; | PM_2.5_AV &lt;dbl&gt; | DEWP &lt;dbl&gt; | HUMI &lt;int&gt; | PRES &lt;dbl&gt; | TEMP &lt;dbl&gt; | cbwd &lt;chr&gt; | Iws &lt;dbl&gt; |\n",
       "|---|---|---|---|---|---|---|---|---|---|---|---|\n",
       "| 26305 | 2013 | 1 | 1 | 0 | 81.33333 | 3.7 | 91 | 1014.2 | 5.0 | NW |  1.9 |\n",
       "| 26306 | 2013 | 1 | 1 | 1 | 86.66667 | 4.2 | 88 | 1014.2 | 6.0 | NW |  3.4 |\n",
       "| 26308 | 2013 | 1 | 1 | 3 | 58.66667 | 3.5 | 76 | 1013.9 | 7.5 | NW |  5.8 |\n",
       "| 26309 | 2013 | 1 | 1 | 4 | 63.00000 | 2.7 | 69 | 1013.9 | 8.0 | NW |  8.2 |\n",
       "| 26310 | 2013 | 1 | 1 | 5 | 44.33333 | 1.5 | 62 | 1014.2 | 8.4 | NW |  9.0 |\n",
       "| 26311 | 2013 | 1 | 1 | 6 | 41.00000 | 2.3 | 66 | 1014.3 | 8.3 | NW | 11.4 |\n",
       "\n"
      ],
      "text/plain": [
       "      year month day hour PM_2.5_AV DEWP HUMI PRES   TEMP cbwd Iws \n",
       "26305 2013 1     1   0    81.33333  3.7  91   1014.2 5.0  NW    1.9\n",
       "26306 2013 1     1   1    86.66667  4.2  88   1014.2 6.0  NW    3.4\n",
       "26308 2013 1     1   3    58.66667  3.5  76   1013.9 7.5  NW    5.8\n",
       "26309 2013 1     1   4    63.00000  2.7  69   1013.9 8.0  NW    8.2\n",
       "26310 2013 1     1   5    44.33333  1.5  62   1014.2 8.4  NW    9.0\n",
       "26311 2013 1     1   6    41.00000  2.3  66   1014.3 8.3  NW   11.4"
      ]
     },
     "metadata": {},
     "output_type": "display_data"
    },
    {
     "data": {
      "text/html": [
       "<table class=\"dataframe\">\n",
       "<caption>A data.frame: 6 × 11</caption>\n",
       "<thead>\n",
       "\t<tr><th></th><th scope=col>year</th><th scope=col>month</th><th scope=col>day</th><th scope=col>hour</th><th scope=col>PM_2.5_AV</th><th scope=col>DEWP</th><th scope=col>HUMI</th><th scope=col>PRES</th><th scope=col>TEMP</th><th scope=col>cbwd</th><th scope=col>Iws</th></tr>\n",
       "\t<tr><th></th><th scope=col>&lt;int&gt;</th><th scope=col>&lt;int&gt;</th><th scope=col>&lt;int&gt;</th><th scope=col>&lt;int&gt;</th><th scope=col>&lt;dbl&gt;</th><th scope=col>&lt;int&gt;</th><th scope=col>&lt;dbl&gt;</th><th scope=col>&lt;int&gt;</th><th scope=col>&lt;int&gt;</th><th scope=col>&lt;chr&gt;</th><th scope=col>&lt;dbl&gt;</th></tr>\n",
       "</thead>\n",
       "<tbody>\n",
       "\t<tr><th scope=row>28982</th><td>2013</td><td>4</td><td>22</td><td>13</td><td>131.33333</td><td>-1</td><td>25.89</td><td>1013</td><td>19</td><td>SW</td><td> 55</td></tr>\n",
       "\t<tr><th scope=row>29003</th><td>2013</td><td>4</td><td>23</td><td>10</td><td> 55.66667</td><td>-5</td><td>26.40</td><td>1012</td><td>14</td><td>SW</td><td> 17</td></tr>\n",
       "\t<tr><th scope=row>29009</th><td>2013</td><td>4</td><td>23</td><td>16</td><td>152.66667</td><td> 2</td><td>50.36</td><td>1010</td><td>12</td><td>SW</td><td> 56</td></tr>\n",
       "\t<tr><th scope=row>29025</th><td>2013</td><td>4</td><td>24</td><td> 8</td><td>131.00000</td><td> 6</td><td>87.19</td><td>1010</td><td> 8</td><td>SW</td><td> 33</td></tr>\n",
       "\t<tr><th scope=row>29033</th><td>2013</td><td>4</td><td>24</td><td>16</td><td> 14.66667</td><td>-4</td><td>23.50</td><td>1006</td><td>17</td><td>SW</td><td> 69</td></tr>\n",
       "\t<tr><th scope=row>29038</th><td>2013</td><td>4</td><td>24</td><td>21</td><td> 16.00000</td><td> 4</td><td>66.27</td><td>1008</td><td>10</td><td>SW</td><td>100</td></tr>\n",
       "</tbody>\n",
       "</table>\n"
      ],
      "text/latex": [
       "A data.frame: 6 × 11\n",
       "\\begin{tabular}{r|lllllllllll}\n",
       "  & year & month & day & hour & PM\\_2.5\\_AV & DEWP & HUMI & PRES & TEMP & cbwd & Iws\\\\\n",
       "  & <int> & <int> & <int> & <int> & <dbl> & <int> & <dbl> & <int> & <int> & <chr> & <dbl>\\\\\n",
       "\\hline\n",
       "\t28982 & 2013 & 4 & 22 & 13 & 131.33333 & -1 & 25.89 & 1013 & 19 & SW &  55\\\\\n",
       "\t29003 & 2013 & 4 & 23 & 10 &  55.66667 & -5 & 26.40 & 1012 & 14 & SW &  17\\\\\n",
       "\t29009 & 2013 & 4 & 23 & 16 & 152.66667 &  2 & 50.36 & 1010 & 12 & SW &  56\\\\\n",
       "\t29025 & 2013 & 4 & 24 &  8 & 131.00000 &  6 & 87.19 & 1010 &  8 & SW &  33\\\\\n",
       "\t29033 & 2013 & 4 & 24 & 16 &  14.66667 & -4 & 23.50 & 1006 & 17 & SW &  69\\\\\n",
       "\t29038 & 2013 & 4 & 24 & 21 &  16.00000 &  4 & 66.27 & 1008 & 10 & SW & 100\\\\\n",
       "\\end{tabular}\n"
      ],
      "text/markdown": [
       "\n",
       "A data.frame: 6 × 11\n",
       "\n",
       "| <!--/--> | year &lt;int&gt; | month &lt;int&gt; | day &lt;int&gt; | hour &lt;int&gt; | PM_2.5_AV &lt;dbl&gt; | DEWP &lt;int&gt; | HUMI &lt;dbl&gt; | PRES &lt;int&gt; | TEMP &lt;int&gt; | cbwd &lt;chr&gt; | Iws &lt;dbl&gt; |\n",
       "|---|---|---|---|---|---|---|---|---|---|---|---|\n",
       "| 28982 | 2013 | 4 | 22 | 13 | 131.33333 | -1 | 25.89 | 1013 | 19 | SW |  55 |\n",
       "| 29003 | 2013 | 4 | 23 | 10 |  55.66667 | -5 | 26.40 | 1012 | 14 | SW |  17 |\n",
       "| 29009 | 2013 | 4 | 23 | 16 | 152.66667 |  2 | 50.36 | 1010 | 12 | SW |  56 |\n",
       "| 29025 | 2013 | 4 | 24 |  8 | 131.00000 |  6 | 87.19 | 1010 |  8 | SW |  33 |\n",
       "| 29033 | 2013 | 4 | 24 | 16 |  14.66667 | -4 | 23.50 | 1006 | 17 | SW |  69 |\n",
       "| 29038 | 2013 | 4 | 24 | 21 |  16.00000 |  4 | 66.27 | 1008 | 10 | SW | 100 |\n",
       "\n"
      ],
      "text/plain": [
       "      year month day hour PM_2.5_AV DEWP HUMI  PRES TEMP cbwd Iws\n",
       "28982 2013 4     22  13   131.33333 -1   25.89 1013 19   SW    55\n",
       "29003 2013 4     23  10    55.66667 -5   26.40 1012 14   SW    17\n",
       "29009 2013 4     23  16   152.66667  2   50.36 1010 12   SW    56\n",
       "29025 2013 4     24   8   131.00000  6   87.19 1010  8   SW    33\n",
       "29033 2013 4     24  16    14.66667 -4   23.50 1006 17   SW    69\n",
       "29038 2013 4     24  21    16.00000  4   66.27 1008 10   SW   100"
      ]
     },
     "metadata": {},
     "output_type": "display_data"
    }
   ],
   "source": [
    "# Need to merge tables \n",
    "\n",
    "beijing_PM2.5 <- read.csv(\"https://raw.githubusercontent.com/Nick-2003/STAT-201-Group-46-Project/main/Data%20Sets/BeijingPM20100101_20151231.csv\")\n",
    "# beijing_PM2.5 <- read.csv(\"https://github.com/Nick-2003/STAT-201-Group-46-Project/raw/main/Data%20Sets/BeijingPM20100101_20151231.csv\")\n",
    "beijing_PM2.5 <- na.omit(beijing_PM2.5) # Need to change to apply only for columns without PM2.5 data\n",
    "beijing_PM2.5_AV <- beijing_PM2.5 %>% \n",
    "    mutate(PM_2.5_AV = (PM_Dongsi + PM_Dongsihuan + PM_Nongzhanguan)/3) %>% \n",
    "    select(year, month, day, hour, PM_2.5_AV, DEWP, HUMI, PRES, TEMP, cbwd, Iws)\n",
    "head(beijing_PM2.5_AV)\n",
    "\n",
    "shanghai_PM2.5 <- read.csv(\"https://raw.githubusercontent.com/Nick-2003/STAT-201-Group-46-Project/main/Data%20Sets/ShanghaiPM20100101_20151231.csv\")\n",
    "shanghai_PM2.5 <- na.omit(shanghai_PM2.5)\n",
    "shanghai_PM2.5_AV <- shanghai_PM2.5 %>% \n",
    "    mutate(PM_2.5_AV = (PM_Jingan + PM_US.Post + PM_Xuhui)/3) %>% \n",
    "    select(year, month, day, hour, PM_2.5_AV, DEWP, HUMI, PRES, TEMP, cbwd, Iws)\n",
    "head(shanghai_PM2.5_AV)\n",
    "\n",
    "chengdu_PM2.5 <- read.csv(\"https://raw.githubusercontent.com/Nick-2003/STAT-201-Group-46-Project/main/Data%20Sets/ChengduPM20100101_20151231.csv\")\n",
    "chengdu_PM2.5 <- na.omit(chengdu_PM2.5)\n",
    "chengdu_PM2.5_AV <- chengdu_PM2.5 %>% \n",
    "    mutate(PM_2.5_AV = (PM_Caotangsi + PM_Shahepu + PM_US.Post)/3) %>% \n",
    "    select(year, month, day, hour, PM_2.5_AV, DEWP, HUMI, PRES, TEMP, cbwd, Iws)\n",
    "head(chengdu_PM2.5_AV)\n",
    "\n",
    "guangzhou_PM2.5 <- read.csv(\"https://raw.githubusercontent.com/Nick-2003/STAT-201-Group-46-Project/main/Data%20Sets/GuangzhouPM20100101_20151231.csv\")\n",
    "guangzhou_PM2.5 <- na.omit(guangzhou_PM2.5)\n",
    "guangzhou_PM2.5_AV <- guangzhou_PM2.5 %>% \n",
    "    mutate(PM_2.5_AV = (PM_City.Station + PM_5th.Middle.School + PM_US.Post)/3) %>% \n",
    "    select(year, month, day, hour, PM_2.5_AV, DEWP, HUMI, PRES, TEMP, cbwd, Iws)\n",
    "head(guangzhou_PM2.5_AV)\n",
    "\n",
    "shenyang_PM2.5 <- read.csv(\"https://raw.githubusercontent.com/Nick-2003/STAT-201-Group-46-Project/main/Data%20Sets/ShenyangPM20100101_20151231.csv\")\n",
    "shenyang_PM2.5 <- na.omit(shenyang_PM2.5)\n",
    "shenyang_PM2.5_AV <- shenyang_PM2.5 %>% \n",
    "    mutate(PM_2.5_AV = (PM_Taiyuanjie + PM_US.Post + PM_Xiaoheyan)/3) %>% \n",
    "    select(year, month, day, hour, PM_2.5_AV, DEWP, HUMI, PRES, TEMP, cbwd, Iws)\n",
    "head(shenyang_PM2.5_AV)"
   ]
  },
  {
   "cell_type": "code",
   "execution_count": 15,
   "id": "c0ad9a80-0b2b-4c87-88ed-37b354606c57",
   "metadata": {},
   "outputs": [
    {
     "data": {
      "text/html": [
       "<table class=\"dataframe\">\n",
       "<caption>A tibble: 3 × 2</caption>\n",
       "<thead>\n",
       "\t<tr><th scope=col>year</th><th scope=col>mean</th></tr>\n",
       "\t<tr><th scope=col>&lt;int&gt;</th><th scope=col>&lt;dbl&gt;</th></tr>\n",
       "</thead>\n",
       "<tbody>\n",
       "\t<tr><td>2013</td><td>87.34308</td></tr>\n",
       "\t<tr><td>2014</td><td>88.72981</td></tr>\n",
       "\t<tr><td>2015</td><td>88.38446</td></tr>\n",
       "</tbody>\n",
       "</table>\n"
      ],
      "text/latex": [
       "A tibble: 3 × 2\n",
       "\\begin{tabular}{ll}\n",
       " year & mean\\\\\n",
       " <int> & <dbl>\\\\\n",
       "\\hline\n",
       "\t 2013 & 87.34308\\\\\n",
       "\t 2014 & 88.72981\\\\\n",
       "\t 2015 & 88.38446\\\\\n",
       "\\end{tabular}\n"
      ],
      "text/markdown": [
       "\n",
       "A tibble: 3 × 2\n",
       "\n",
       "| year &lt;int&gt; | mean &lt;dbl&gt; |\n",
       "|---|---|\n",
       "| 2013 | 87.34308 |\n",
       "| 2014 | 88.72981 |\n",
       "| 2015 | 88.38446 |\n",
       "\n"
      ],
      "text/plain": [
       "  year mean    \n",
       "1 2013 87.34308\n",
       "2 2014 88.72981\n",
       "3 2015 88.38446"
      ]
     },
     "metadata": {},
     "output_type": "display_data"
    },
    {
     "data": {
      "text/html": [
       "<table class=\"dataframe\">\n",
       "<caption>A tibble: 1 × 3</caption>\n",
       "<thead>\n",
       "\t<tr><th scope=col>year</th><th scope=col>mean</th><th scope=col>city</th></tr>\n",
       "\t<tr><th scope=col>&lt;int&gt;</th><th scope=col>&lt;dbl&gt;</th><th scope=col>&lt;chr&gt;</th></tr>\n",
       "</thead>\n",
       "<tbody>\n",
       "\t<tr><td>2015</td><td>88.38446</td><td>Beijing</td></tr>\n",
       "</tbody>\n",
       "</table>\n"
      ],
      "text/latex": [
       "A tibble: 1 × 3\n",
       "\\begin{tabular}{lll}\n",
       " year & mean & city\\\\\n",
       " <int> & <dbl> & <chr>\\\\\n",
       "\\hline\n",
       "\t 2015 & 88.38446 & Beijing\\\\\n",
       "\\end{tabular}\n"
      ],
      "text/markdown": [
       "\n",
       "A tibble: 1 × 3\n",
       "\n",
       "| year &lt;int&gt; | mean &lt;dbl&gt; | city &lt;chr&gt; |\n",
       "|---|---|---|\n",
       "| 2015 | 88.38446 | Beijing |\n",
       "\n"
      ],
      "text/plain": [
       "  year mean     city   \n",
       "1 2015 88.38446 Beijing"
      ]
     },
     "metadata": {},
     "output_type": "display_data"
    }
   ],
   "source": [
    "#beijing\n",
    "mean_beijing_2013 <- beijing_PM2.5_AV %>% \n",
    "    filter(!is.na(PM_2.5_AV)) %>% \n",
    "    group_by(year) %>% \n",
    "    summarize(mean = mean(PM_2.5_AV)) \n",
    "# %>% \n",
    "#     mutate( city = 'Beijing') %>% \n",
    "#     filter(year == 2013)\n",
    "mean_beijing_2015 <- beijing_PM2.5_AV %>% \n",
    "    filter(!is.na(PM_2.5_AV)) %>% \n",
    "    group_by(year) %>% \n",
    "    summarize(mean = mean(PM_2.5_AV)) %>% \n",
    "    mutate( city = 'Beijing') %>% \n",
    "    filter(year == 2015)\n",
    "mean_beijing_2013\n",
    "mean_beijing_2015\n",
    "\n",
    "#shanghai\n",
    "mean_shanghai_2013 <- shanghai_PM2.5_AV %>% \n",
    "    filter(!is.na(PM_2.5_AV)) %>% \n",
    "    group_by(year) %>% \n",
    "    summarize(mean = mean(PM_2.5_AV)) %>%\n",
    "    mutate( city = 'Shanghai') %>% \n",
    "    filter(year == 2013)\n",
    "mean_shanghai_2015 <- shanghai_PM2.5_AV %>% \n",
    "    filter(!is.na(PM_2.5_AV)) %>% \n",
    "    group_by(year) %>% \n",
    "    summarize(mean = mean(PM_2.5_AV)) %>%\n",
    "    mutate( city = 'Shanghai') %>% \n",
    "    filter(year == 2015)\n",
    "\n",
    "#Chengdu\n",
    "mean_chengdu_2013 <- chengdu_PM2.5_AV %>% \n",
    "    filter(!is.na(PM_2.5_AV)) %>% \n",
    "    group_by(year) %>% \n",
    "    summarize(mean = mean(PM_2.5_AV)) %>% \n",
    "    mutate( city = 'Chengdu') %>% \n",
    "    filter(year == 2013)\n",
    "mean_chengdu_2015 <- chengdu_PM2.5_AV %>% \n",
    "    filter(!is.na(PM_2.5_AV)) %>% \n",
    "    group_by(year) %>% \n",
    "    summarize(mean = mean(PM_2.5_AV)) %>% \n",
    "    mutate( city = 'Chengdu') %>% \n",
    "    filter(year == 2015)\n",
    "\n",
    "#Guangzhou\n",
    "mean_guangzhou_2013 <- guangzhou_PM2.5_AV %>% \n",
    "    filter(!is.na(PM_2.5_AV)) %>% \n",
    "    group_by(year) %>% \n",
    "    summarize(mean = mean(PM_2.5_AV)) %>% \n",
    "    mutate( city = 'Guangzhou') %>% \n",
    "    filter(year == 2013)\n",
    "mean_guangzhou_2015 <- guangzhou_PM2.5_AV %>% \n",
    "    filter(!is.na(PM_2.5_AV)) %>% \n",
    "    group_by(year) %>% \n",
    "    summarize(mean = mean(PM_2.5_AV)) %>% \n",
    "    mutate( city = 'Guangzhou') %>% \n",
    "    filter(year == 2015)\n",
    "\n",
    "#Shenyang\n",
    "mean_shenyang_2013 <- shenyang_PM2.5_AV %>% \n",
    "    filter(!is.na(PM_2.5_AV)) %>% \n",
    "    group_by(year) %>% \n",
    "    summarize(mean = mean(PM_2.5_AV)) %>% \n",
    "    mutate(city = 'Shenyang') %>% \n",
    "    filter(year == 2013)\n",
    "mean_shenyang_2015 <- shenyang_PM2.5_AV %>% \n",
    "    filter(!is.na(PM_2.5_AV)) %>% \n",
    "    group_by(year) %>% \n",
    "    summarize(mean = mean(PM_2.5_AV)) %>% \n",
    "    mutate( city = 'Shenyang') %>% \n",
    "    filter(year == 2015)"
   ]
  },
  {
   "cell_type": "code",
   "execution_count": 6,
   "id": "aaa79a0b-33c3-4ca2-84d2-1b410800c67e",
   "metadata": {},
   "outputs": [
    {
     "data": {
      "image/png": "[encoded data removed]",
      "text/plain": [
       "plot without title"
      ]
     },
     "metadata": {
      "image/png": {
       "height": 240,
       "width": 360
      }
     },
     "output_type": "display_data"
    }
   ],
   "source": [
    "options(repr.plot.width=6, repr.plot.height=4)\n",
    "cities_plot <- ggplot() +\n",
    "    geom_point(data = mean_beijing_2013, aes(x = city, y = mean, colour = year)) +\n",
    "    geom_point(data = mean_shenyang_2013, aes(x = city, y = mean, colour = year)) +\n",
    "    geom_point(data = mean_shanghai_2013 , aes(x = city, y = mean, colour = year)) +\n",
    "    geom_point(data = mean_guangzhou_2013 , aes(x = city, y = mean, colour = year)) +\n",
    "    geom_point(data = mean_chengdu_2013, aes(x = city, y = mean, colour = year)) +\n",
    "    geom_point(data = mean_beijing_2015, aes(x = city, y = mean, colour = year))  +\n",
    "    geom_point(data = mean_shenyang_2015, aes(x = city, y = mean, colour = year)) +\n",
    "    geom_point(data = mean_shanghai_2015 , aes(x = city, y = mean, colour = year))+\n",
    "    geom_point(data = mean_guangzhou_2015 , aes(x = city, y = mean, colour = year)) +\n",
    "    geom_point(data = mean_chengdu_2015, aes(x = city, y = mean, colour = year)) +\n",
    "    ylab('PM2.5_AV') + \n",
    "    xlab('City') + \n",
    "    ggtitle('PM2.5_AV in 2013 and 2015 per City') + \n",
    "    theme(plot.title = element_text(hjust = 0.5))\n",
    "cities_plot"
   ]
  },
  {
   "cell_type": "code",
   "execution_count": 11,
   "id": "16bb4722-91da-448e-8c2e-0757937e239f",
   "metadata": {},
   "outputs": [
    {
     "data": {
      "text/html": [
       "<table class=\"dataframe\">\n",
       "<caption>A tibble: 10 × 3</caption>\n",
       "<thead>\n",
       "\t<tr><th scope=col>year</th><th scope=col>mean</th><th scope=col>city</th></tr>\n",
       "\t<tr><th scope=col>&lt;int&gt;</th><th scope=col>&lt;dbl&gt;</th><th scope=col>&lt;chr&gt;</th></tr>\n",
       "</thead>\n",
       "<tbody>\n",
       "\t<tr><td>2013</td><td> 87.34308</td><td>Beijing  </td></tr>\n",
       "\t<tr><td>2015</td><td> 88.38446</td><td>Beijing  </td></tr>\n",
       "\t<tr><td>2013</td><td> 63.94108</td><td>Shanghai </td></tr>\n",
       "\t<tr><td>2015</td><td> 52.60184</td><td>Shanghai </td></tr>\n",
       "\t<tr><td>2013</td><td> 56.99301</td><td>Guangzhou</td></tr>\n",
       "\t<tr><td>2015</td><td> 40.59729</td><td>Guangzhou</td></tr>\n",
       "\t<tr><td>2013</td><td>100.06282</td><td>Chengdu  </td></tr>\n",
       "\t<tr><td>2015</td><td> 65.67686</td><td>Chengdu  </td></tr>\n",
       "\t<tr><td>2013</td><td> 70.02529</td><td>Shenyang </td></tr>\n",
       "\t<tr><td>2015</td><td> 73.58769</td><td>Shenyang </td></tr>\n",
       "</tbody>\n",
       "</table>\n"
      ],
      "text/latex": [
       "A tibble: 10 × 3\n",
       "\\begin{tabular}{lll}\n",
       " year & mean & city\\\\\n",
       " <int> & <dbl> & <chr>\\\\\n",
       "\\hline\n",
       "\t 2013 &  87.34308 & Beijing  \\\\\n",
       "\t 2015 &  88.38446 & Beijing  \\\\\n",
       "\t 2013 &  63.94108 & Shanghai \\\\\n",
       "\t 2015 &  52.60184 & Shanghai \\\\\n",
       "\t 2013 &  56.99301 & Guangzhou\\\\\n",
       "\t 2015 &  40.59729 & Guangzhou\\\\\n",
       "\t 2013 & 100.06282 & Chengdu  \\\\\n",
       "\t 2015 &  65.67686 & Chengdu  \\\\\n",
       "\t 2013 &  70.02529 & Shenyang \\\\\n",
       "\t 2015 &  73.58769 & Shenyang \\\\\n",
       "\\end{tabular}\n"
      ],
      "text/markdown": [
       "\n",
       "A tibble: 10 × 3\n",
       "\n",
       "| year &lt;int&gt; | mean &lt;dbl&gt; | city &lt;chr&gt; |\n",
       "|---|---|---|\n",
       "| 2013 |  87.34308 | Beijing   |\n",
       "| 2015 |  88.38446 | Beijing   |\n",
       "| 2013 |  63.94108 | Shanghai  |\n",
       "| 2015 |  52.60184 | Shanghai  |\n",
       "| 2013 |  56.99301 | Guangzhou |\n",
       "| 2015 |  40.59729 | Guangzhou |\n",
       "| 2013 | 100.06282 | Chengdu   |\n",
       "| 2015 |  65.67686 | Chengdu   |\n",
       "| 2013 |  70.02529 | Shenyang  |\n",
       "| 2015 |  73.58769 | Shenyang  |\n",
       "\n"
      ],
      "text/plain": [
       "   year mean      city     \n",
       "1  2013  87.34308 Beijing  \n",
       "2  2015  88.38446 Beijing  \n",
       "3  2013  63.94108 Shanghai \n",
       "4  2015  52.60184 Shanghai \n",
       "5  2013  56.99301 Guangzhou\n",
       "6  2015  40.59729 Guangzhou\n",
       "7  2013 100.06282 Chengdu  \n",
       "8  2015  65.67686 Chengdu  \n",
       "9  2013  70.02529 Shenyang \n",
       "10 2015  73.58769 Shenyang "
      ]
     },
     "metadata": {},
     "output_type": "display_data"
    },
    {
     "name": "stdout",
     "output_type": "stream",
     "text": [
      "[1] \"Difference in Beijing between 2013 and 2015 of PM2.5_AV\"\n"
     ]
    },
    {
     "data": {
      "text/html": [
       "-1.04138618102979"
      ],
      "text/latex": [
       "-1.04138618102979"
      ],
      "text/markdown": [
       "-1.04138618102979"
      ],
      "text/plain": [
       "[1] -1.041386"
      ]
     },
     "metadata": {},
     "output_type": "display_data"
    },
    {
     "name": "stdout",
     "output_type": "stream",
     "text": [
      "[1] \"Difference in Shanghai between 2013 and 2015 of PM2.5_AV\"\n"
     ]
    },
    {
     "data": {
      "text/html": [
       "11.3392451605275"
      ],
      "text/latex": [
       "11.3392451605275"
      ],
      "text/markdown": [
       "11.3392451605275"
      ],
      "text/plain": [
       "[1] 11.33925"
      ]
     },
     "metadata": {},
     "output_type": "display_data"
    },
    {
     "name": "stdout",
     "output_type": "stream",
     "text": [
      "[1] \"Difference in Guangzhou between 2013 and 2015 of PM2.5_AV\"\n"
     ]
    },
    {
     "data": {
      "text/html": [
       "16.3957166701158"
      ],
      "text/latex": [
       "16.3957166701158"
      ],
      "text/markdown": [
       "16.3957166701158"
      ],
      "text/plain": [
       "[1] 16.39572"
      ]
     },
     "metadata": {},
     "output_type": "display_data"
    },
    {
     "name": "stdout",
     "output_type": "stream",
     "text": [
      "[1] \"Difference in Chengdu between 2013 and 2015 of PM2.5_AV\"\n"
     ]
    },
    {
     "data": {
      "text/html": [
       "34.385960781142"
      ],
      "text/latex": [
       "34.385960781142"
      ],
      "text/markdown": [
       "34.385960781142"
      ],
      "text/plain": [
       "[1] 34.38596"
      ]
     },
     "metadata": {},
     "output_type": "display_data"
    },
    {
     "name": "stdout",
     "output_type": "stream",
     "text": [
      "[1] \"Difference in Shenyang between 2013 and 2015 of PM2.5_AV\"\n"
     ]
    },
    {
     "data": {
      "text/html": [
       "-3.56240189828141"
      ],
      "text/latex": [
       "-3.56240189828141"
      ],
      "text/markdown": [
       "-3.56240189828141"
      ],
      "text/plain": [
       "[1] -3.562402"
      ]
     },
     "metadata": {},
     "output_type": "display_data"
    }
   ],
   "source": [
    "#Computing differences for each city\n",
    "complete_data <- rbind(mean_beijing_2013, mean_beijing_2015, mean_shanghai_2013, mean_shanghai_2015, mean_guangzhou_2013,  mean_guangzhou_2015, mean_chengdu_2013, mean_chengdu_2015, mean_shenyang_2013, mean_shenyang_2015)\n",
    "complete_data\n",
    "\n",
    "#differences for each city \n",
    "difference_beijing <- (filter(complete_data, year == 2013, city == 'Beijing') %>% pull(mean)) - (filter(complete_data, year == 2015, city == 'Beijing') %>% pull(mean))\n",
    "difference_shanghai <- (filter(complete_data, year == 2013, city == 'Shanghai') %>% pull(mean)) - (filter(complete_data, year == 2015, city == 'Shanghai') %>% pull(mean))\n",
    "difference_guangzhou <- (filter(complete_data, year == 2013, city == 'Guangzhou') %>% pull(mean)) - (filter(complete_data, year == 2015, city == 'Guangzhou') %>% pull(mean))\n",
    "difference_chengdu <- (filter(complete_data, year == 2013, city == 'Chengdu') %>% pull(mean)) - (filter(complete_data, year == 2015, city == 'Chengdu') %>% pull(mean))\n",
    "difference_shenyang <- (filter(complete_data, year == 2013, city == 'Shenyang') %>% pull(mean)) - (filter(complete_data, year == 2015, city == 'Shenyang') %>% pull(mean))\n",
    "\n",
    "print('Difference in Beijing between 2013 and 2015 of PM2.5_AV')\n",
    "difference_beijing \n",
    "\n",
    "print('Difference in Shanghai between 2013 and 2015 of PM2.5_AV')\n",
    "difference_shanghai\n",
    "\n",
    "print('Difference in Guangzhou between 2013 and 2015 of PM2.5_AV')\n",
    "difference_guangzhou\n",
    "\n",
    "print('Difference in Chengdu between 2013 and 2015 of PM2.5_AV')\n",
    "difference_chengdu\n",
    "\n",
    "print('Difference in Shenyang between 2013 and 2015 of PM2.5_AV')\n",
    "difference_shenyang\n"
   ]
  },
  {
   "cell_type": "markdown",
   "id": "b6348ebd-2bc1-4284-a74b-f2ed660526e7",
   "metadata": {},
   "source": [
    "## Methods: Plan\n",
    "\n"
   ]
  },
  {
   "cell_type": "markdown",
   "id": "adc8edbf-b570-4ee9-abcb-d33e713a6074",
   "metadata": {},
   "source": [
    "## References\n",
    "\n",
    "<!-- - Liang, X., S. Li, S. Zhang, H. Huang, and S. X. Chen (2016), PM2.5 data reliability, consistency, and air quality assessment in five Chinese cities, J. Geophys. Res. Atmos., 121, 10220â€“10236 doi:10.1002/2016JD024877 -->\n",
    "- Liang, X. (2016). PM 2.5 data reliability, consistency, and air quality assessment in five chinese cities CONSISTENCY IN CHINA'S PM 2.5 DATA doi:10.1002/2016JD024877\n",
    "- “California Air Resources Board.” Inhalable Particulate Matter and Health (PM2.5 and PM10) | California Air Resources Board, https://ww2.arb.ca.gov/resources/inhalable-particulate-matter-and-health#:~:text=For%20PM2.,symptoms%2C%20and%20restricted%20activity%20days.\n",
    "- Andrews-Speed, P., Shobert., B. A., Zhidong, L., &amp; Herberg, M. E. (2015). China's energy crossroads: Forging a new energy and environmental balance. Project Muse. "
   ]
  },
  {
   "cell_type": "code",
   "execution_count": null,
   "id": "8787d9d8-6abb-4a0c-9abb-6afde1b416d3",
   "metadata": {},
   "outputs": [],
   "source": []
  }
 ],
 "metadata": {
  "kernelspec": {
   "display_name": "R",
   "language": "R",
   "name": "ir"
  },
  "language_info": {
   "codemirror_mode": "r",
   "file_extension": ".r",
   "mimetype": "text/x-r-source",
   "name": "R",
   "pygments_lexer": "r",
   "version": "4.2.3"
  }
 },
 "nbformat": 4,
 "nbformat_minor": 5
}
