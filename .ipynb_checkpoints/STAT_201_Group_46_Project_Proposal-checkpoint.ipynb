{
 "cells": [
  {
   "cell_type": "markdown",
   "id": "175ea34f-9cde-40c2-ba3e-179921e291d7",
   "metadata": {},
   "source": [
    "# STAT 201 \n",
    "## Group 46\n",
    "### Tsun Li Nicholas Tam, Camila Dall Bello, Leon Zhang\n"
   ]
  },
  {
   "cell_type": "code",
   "execution_count": 9,
   "id": "cf21c564-3f93-4905-bcfa-8f965a08fc2d",
   "metadata": {},
   "outputs": [],
   "source": [
    "# Imports\n",
    "\n",
    "# library(cowplot)\n",
    "library(dplyr)\n",
    "library(gridExtra)\n",
    "library(tidyverse)\n",
    "library(repr)\n",
    "# library(infer)\n",
    "library(repr)\n",
    "# library(datateachr)\n",
    "library(digest)\n",
    "library(lubridate)\n",
    "# library(taxyvr)"
   ]
  },
  {
   "cell_type": "markdown",
   "id": "c7b325ea-8cb3-4e0c-8829-0a6cebec4f58",
   "metadata": {},
   "source": [
    "## Introduction\n",
    "\n"
   ]
  },
  {
   "cell_type": "markdown",
   "id": "cff5df47-0753-45f0-bb4f-c14e4beb8805",
   "metadata": {},
   "source": [
    "## Preliminary Results\n",
    "\n",
    "\n",
    "## Methods: Plan\n",
    "\n",
    "\n",
    "## References\n"
   ]
  },
  {
   "cell_type": "code",
   "execution_count": 8,
   "id": "0fdd6483-1590-4993-a413-f6504f7eb062",
   "metadata": {},
   "outputs": [
    {
     "data": {
      "text/html": [
       "<table class=\"dataframe\">\n",
       "<caption>A data.frame: 6 × 29</caption>\n",
       "<thead>\n",
       "\t<tr><th></th><th scope=col>Longitude..x.</th><th scope=col>Latitude..y.</th><th scope=col>Station.Name</th><th scope=col>Climate.ID</th><th scope=col>Date.Time</th><th scope=col>Year</th><th scope=col>Month</th><th scope=col>Mean.Max.Temp...C.</th><th scope=col>Mean.Max.Temp.Flag</th><th scope=col>Mean.Min.Temp...C.</th><th scope=col>⋯</th><th scope=col>Total.Snow..cm.</th><th scope=col>Total.Snow.Flag</th><th scope=col>Total.Precip..mm.</th><th scope=col>Total.Precip.Flag</th><th scope=col>Snow.Grnd.Last.Day..cm.</th><th scope=col>Snow.Grnd.Last.Day.Flag</th><th scope=col>Dir.of.Max.Gust..10.s.deg.</th><th scope=col>Dir.of.Max.Gust.Flag</th><th scope=col>Spd.of.Max.Gust..km.h.</th><th scope=col>Spd.of.Max.Gust.Flag</th></tr>\n",
       "\t<tr><th></th><th scope=col>&lt;dbl&gt;</th><th scope=col>&lt;dbl&gt;</th><th scope=col>&lt;chr&gt;</th><th scope=col>&lt;int&gt;</th><th scope=col>&lt;chr&gt;</th><th scope=col>&lt;int&gt;</th><th scope=col>&lt;int&gt;</th><th scope=col>&lt;dbl&gt;</th><th scope=col>&lt;chr&gt;</th><th scope=col>&lt;dbl&gt;</th><th scope=col>⋯</th><th scope=col>&lt;dbl&gt;</th><th scope=col>&lt;chr&gt;</th><th scope=col>&lt;dbl&gt;</th><th scope=col>&lt;chr&gt;</th><th scope=col>&lt;int&gt;</th><th scope=col>&lt;chr&gt;</th><th scope=col>&lt;lgl&gt;</th><th scope=col>&lt;lgl&gt;</th><th scope=col>&lt;lgl&gt;</th><th scope=col>&lt;lgl&gt;</th></tr>\n",
       "</thead>\n",
       "<tbody>\n",
       "\t<tr><th scope=row>1</th><td>-123.09</td><td>49.18</td><td>RICHMOND DALLYN 2</td><td>1106764</td><td>1963-01</td><td>1963</td><td>1</td><td>NA</td><td></td><td>NA</td><td>⋯</td><td>NA</td><td>M</td><td>NA</td><td>M</td><td>NA</td><td>M</td><td>NA</td><td>NA</td><td>NA</td><td>NA</td></tr>\n",
       "\t<tr><th scope=row>2</th><td>-123.09</td><td>49.18</td><td>RICHMOND DALLYN 2</td><td>1106764</td><td>1963-02</td><td>1963</td><td>2</td><td>NA</td><td></td><td>NA</td><td>⋯</td><td>NA</td><td>M</td><td>NA</td><td>M</td><td>NA</td><td>M</td><td>NA</td><td>NA</td><td>NA</td><td>NA</td></tr>\n",
       "\t<tr><th scope=row>3</th><td>-123.09</td><td>49.18</td><td>RICHMOND DALLYN 2</td><td>1106764</td><td>1963-03</td><td>1963</td><td>3</td><td>NA</td><td></td><td>NA</td><td>⋯</td><td>NA</td><td>M</td><td>NA</td><td>M</td><td>NA</td><td>M</td><td>NA</td><td>NA</td><td>NA</td><td>NA</td></tr>\n",
       "\t<tr><th scope=row>4</th><td>-123.09</td><td>49.18</td><td>RICHMOND DALLYN 2</td><td>1106764</td><td>1963-04</td><td>1963</td><td>4</td><td>NA</td><td></td><td>NA</td><td>⋯</td><td>NA</td><td>M</td><td>NA</td><td>M</td><td>NA</td><td>M</td><td>NA</td><td>NA</td><td>NA</td><td>NA</td></tr>\n",
       "\t<tr><th scope=row>5</th><td>-123.09</td><td>49.18</td><td>RICHMOND DALLYN 2</td><td>1106764</td><td>1963-05</td><td>1963</td><td>5</td><td>NA</td><td></td><td>NA</td><td>⋯</td><td>NA</td><td>M</td><td>NA</td><td>M</td><td>NA</td><td>M</td><td>NA</td><td>NA</td><td>NA</td><td>NA</td></tr>\n",
       "\t<tr><th scope=row>6</th><td>-123.09</td><td>49.18</td><td>RICHMOND DALLYN 2</td><td>1106764</td><td>1963-06</td><td>1963</td><td>6</td><td>NA</td><td></td><td>NA</td><td>⋯</td><td>NA</td><td>M</td><td>NA</td><td>M</td><td>NA</td><td>M</td><td>NA</td><td>NA</td><td>NA</td><td>NA</td></tr>\n",
       "</tbody>\n",
       "</table>\n"
      ],
      "text/latex": [
       "A data.frame: 6 × 29\n",
       "\\begin{tabular}{r|lllllllllllllllllllll}\n",
       "  & Longitude..x. & Latitude..y. & Station.Name & Climate.ID & Date.Time & Year & Month & Mean.Max.Temp...C. & Mean.Max.Temp.Flag & Mean.Min.Temp...C. & ⋯ & Total.Snow..cm. & Total.Snow.Flag & Total.Precip..mm. & Total.Precip.Flag & Snow.Grnd.Last.Day..cm. & Snow.Grnd.Last.Day.Flag & Dir.of.Max.Gust..10.s.deg. & Dir.of.Max.Gust.Flag & Spd.of.Max.Gust..km.h. & Spd.of.Max.Gust.Flag\\\\\n",
       "  & <dbl> & <dbl> & <chr> & <int> & <chr> & <int> & <int> & <dbl> & <chr> & <dbl> & ⋯ & <dbl> & <chr> & <dbl> & <chr> & <int> & <chr> & <lgl> & <lgl> & <lgl> & <lgl>\\\\\n",
       "\\hline\n",
       "\t1 & -123.09 & 49.18 & RICHMOND DALLYN 2 & 1106764 & 1963-01 & 1963 & 1 & NA &  & NA & ⋯ & NA & M & NA & M & NA & M & NA & NA & NA & NA\\\\\n",
       "\t2 & -123.09 & 49.18 & RICHMOND DALLYN 2 & 1106764 & 1963-02 & 1963 & 2 & NA &  & NA & ⋯ & NA & M & NA & M & NA & M & NA & NA & NA & NA\\\\\n",
       "\t3 & -123.09 & 49.18 & RICHMOND DALLYN 2 & 1106764 & 1963-03 & 1963 & 3 & NA &  & NA & ⋯ & NA & M & NA & M & NA & M & NA & NA & NA & NA\\\\\n",
       "\t4 & -123.09 & 49.18 & RICHMOND DALLYN 2 & 1106764 & 1963-04 & 1963 & 4 & NA &  & NA & ⋯ & NA & M & NA & M & NA & M & NA & NA & NA & NA\\\\\n",
       "\t5 & -123.09 & 49.18 & RICHMOND DALLYN 2 & 1106764 & 1963-05 & 1963 & 5 & NA &  & NA & ⋯ & NA & M & NA & M & NA & M & NA & NA & NA & NA\\\\\n",
       "\t6 & -123.09 & 49.18 & RICHMOND DALLYN 2 & 1106764 & 1963-06 & 1963 & 6 & NA &  & NA & ⋯ & NA & M & NA & M & NA & M & NA & NA & NA & NA\\\\\n",
       "\\end{tabular}\n"
      ],
      "text/markdown": [
       "\n",
       "A data.frame: 6 × 29\n",
       "\n",
       "| <!--/--> | Longitude..x. &lt;dbl&gt; | Latitude..y. &lt;dbl&gt; | Station.Name &lt;chr&gt; | Climate.ID &lt;int&gt; | Date.Time &lt;chr&gt; | Year &lt;int&gt; | Month &lt;int&gt; | Mean.Max.Temp...C. &lt;dbl&gt; | Mean.Max.Temp.Flag &lt;chr&gt; | Mean.Min.Temp...C. &lt;dbl&gt; | ⋯ ⋯ | Total.Snow..cm. &lt;dbl&gt; | Total.Snow.Flag &lt;chr&gt; | Total.Precip..mm. &lt;dbl&gt; | Total.Precip.Flag &lt;chr&gt; | Snow.Grnd.Last.Day..cm. &lt;int&gt; | Snow.Grnd.Last.Day.Flag &lt;chr&gt; | Dir.of.Max.Gust..10.s.deg. &lt;lgl&gt; | Dir.of.Max.Gust.Flag &lt;lgl&gt; | Spd.of.Max.Gust..km.h. &lt;lgl&gt; | Spd.of.Max.Gust.Flag &lt;lgl&gt; |\n",
       "|---|---|---|---|---|---|---|---|---|---|---|---|---|---|---|---|---|---|---|---|---|---|\n",
       "| 1 | -123.09 | 49.18 | RICHMOND DALLYN 2 | 1106764 | 1963-01 | 1963 | 1 | NA | <!----> | NA | ⋯ | NA | M | NA | M | NA | M | NA | NA | NA | NA |\n",
       "| 2 | -123.09 | 49.18 | RICHMOND DALLYN 2 | 1106764 | 1963-02 | 1963 | 2 | NA | <!----> | NA | ⋯ | NA | M | NA | M | NA | M | NA | NA | NA | NA |\n",
       "| 3 | -123.09 | 49.18 | RICHMOND DALLYN 2 | 1106764 | 1963-03 | 1963 | 3 | NA | <!----> | NA | ⋯ | NA | M | NA | M | NA | M | NA | NA | NA | NA |\n",
       "| 4 | -123.09 | 49.18 | RICHMOND DALLYN 2 | 1106764 | 1963-04 | 1963 | 4 | NA | <!----> | NA | ⋯ | NA | M | NA | M | NA | M | NA | NA | NA | NA |\n",
       "| 5 | -123.09 | 49.18 | RICHMOND DALLYN 2 | 1106764 | 1963-05 | 1963 | 5 | NA | <!----> | NA | ⋯ | NA | M | NA | M | NA | M | NA | NA | NA | NA |\n",
       "| 6 | -123.09 | 49.18 | RICHMOND DALLYN 2 | 1106764 | 1963-06 | 1963 | 6 | NA | <!----> | NA | ⋯ | NA | M | NA | M | NA | M | NA | NA | NA | NA |\n",
       "\n"
      ],
      "text/plain": [
       "  Longitude..x. Latitude..y. Station.Name      Climate.ID Date.Time Year Month\n",
       "1 -123.09       49.18        RICHMOND DALLYN 2 1106764    1963-01   1963 1    \n",
       "2 -123.09       49.18        RICHMOND DALLYN 2 1106764    1963-02   1963 2    \n",
       "3 -123.09       49.18        RICHMOND DALLYN 2 1106764    1963-03   1963 3    \n",
       "4 -123.09       49.18        RICHMOND DALLYN 2 1106764    1963-04   1963 4    \n",
       "5 -123.09       49.18        RICHMOND DALLYN 2 1106764    1963-05   1963 5    \n",
       "6 -123.09       49.18        RICHMOND DALLYN 2 1106764    1963-06   1963 6    \n",
       "  Mean.Max.Temp...C. Mean.Max.Temp.Flag Mean.Min.Temp...C. ⋯ Total.Snow..cm.\n",
       "1 NA                                    NA                 ⋯ NA             \n",
       "2 NA                                    NA                 ⋯ NA             \n",
       "3 NA                                    NA                 ⋯ NA             \n",
       "4 NA                                    NA                 ⋯ NA             \n",
       "5 NA                                    NA                 ⋯ NA             \n",
       "6 NA                                    NA                 ⋯ NA             \n",
       "  Total.Snow.Flag Total.Precip..mm. Total.Precip.Flag Snow.Grnd.Last.Day..cm.\n",
       "1 M               NA                M                 NA                     \n",
       "2 M               NA                M                 NA                     \n",
       "3 M               NA                M                 NA                     \n",
       "4 M               NA                M                 NA                     \n",
       "5 M               NA                M                 NA                     \n",
       "6 M               NA                M                 NA                     \n",
       "  Snow.Grnd.Last.Day.Flag Dir.of.Max.Gust..10.s.deg. Dir.of.Max.Gust.Flag\n",
       "1 M                       NA                         NA                  \n",
       "2 M                       NA                         NA                  \n",
       "3 M                       NA                         NA                  \n",
       "4 M                       NA                         NA                  \n",
       "5 M                       NA                         NA                  \n",
       "6 M                       NA                         NA                  \n",
       "  Spd.of.Max.Gust..km.h. Spd.of.Max.Gust.Flag\n",
       "1 NA                     NA                  \n",
       "2 NA                     NA                  \n",
       "3 NA                     NA                  \n",
       "4 NA                     NA                  \n",
       "5 NA                     NA                  \n",
       "6 NA                     NA                  "
      ]
     },
     "metadata": {},
     "output_type": "display_data"
    }
   ],
   "source": [
    "# url <- \"https://archive.ics.uci.edu/ml/machine-learning-databases/00394/FiveCitiePMData.rar\"\n",
    "# fivecity <- read.csv(url)\n",
    "# head(fivecity)\n",
    "# WILL NEED NEW DATASET \n",
    "\n",
    "# richmond_dallyn_2 <- read.csv(\"https://raw.githubusercontent.com/Nick-2003/STAT-201-Group-46-Project/main/en_climate_monthly_BC_1106764_1963-2007_P1M.csv\")\n",
    "# # richmond_dallyn_2 <- na.omit(richmond_dallyn_2)\n",
    "# head(richmond_dallyn_2)\n",
    "\n",
    "# vancouver_harbour_cs <- read.csv(\"https://raw.githubusercontent.com/Nick-2003/STAT-201-Group-46-Project/main/en_climate_monthly_BC_1108446_1925-2007_P1M.csv\")\n",
    "# head(vancouver_harbour_cs)\n",
    "\n",
    "# getwd()"
   ]
  },
  {
   "cell_type": "code",
   "execution_count": null,
   "id": "d13af495-c7b4-455e-bb79-a6c07b80a480",
   "metadata": {},
   "outputs": [],
   "source": []
  }
 ],
 "metadata": {
  "kernelspec": {
   "display_name": "R",
   "language": "R",
   "name": "ir"
  },
  "language_info": {
   "codemirror_mode": "r",
   "file_extension": ".r",
   "mimetype": "text/x-r-source",
   "name": "R",
   "pygments_lexer": "r",
   "version": "4.2.2"
  }
 },
 "nbformat": 4,
 "nbformat_minor": 5
}
