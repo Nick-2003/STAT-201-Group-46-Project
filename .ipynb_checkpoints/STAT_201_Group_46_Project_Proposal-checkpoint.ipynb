{
 "cells": [
  {
   "cell_type": "markdown",
   "id": "175ea34f-9cde-40c2-ba3e-179921e291d7",
   "metadata": {},
   "source": [
    "# STAT 201 \n",
    "## Group 46\n",
    "### Tsun Li Nicholas Tam, Camila Dall Bello, Leon Zhang\n"
   ]
  },
  {
   "cell_type": "code",
   "execution_count": 2,
   "id": "cf21c564-3f93-4905-bcfa-8f965a08fc2d",
   "metadata": {},
   "outputs": [
    {
     "name": "stderr",
     "output_type": "stream",
     "text": [
      "\n",
      "Attaching package: ‘dplyr’\n",
      "\n",
      "\n",
      "The following objects are masked from ‘package:stats’:\n",
      "\n",
      "    filter, lag\n",
      "\n",
      "\n",
      "The following objects are masked from ‘package:base’:\n",
      "\n",
      "    intersect, setdiff, setequal, union\n",
      "\n",
      "\n",
      "\n",
      "Attaching package: ‘gridExtra’\n",
      "\n",
      "\n",
      "The following object is masked from ‘package:dplyr’:\n",
      "\n",
      "    combine\n",
      "\n",
      "\n",
      "Warning message in system(\"timedatectl\", intern = TRUE):\n",
      "“running command 'timedatectl' had status 1”\n",
      "── \u001b[1mAttaching packages\u001b[22m ─────────────────────────────────────── tidyverse 1.3.2 ──\n",
      "\u001b[32m✔\u001b[39m \u001b[34mggplot2\u001b[39m 3.4.0     \u001b[32m✔\u001b[39m \u001b[34mpurrr  \u001b[39m 1.0.0\n",
      "\u001b[32m✔\u001b[39m \u001b[34mtibble \u001b[39m 3.1.8     \u001b[32m✔\u001b[39m \u001b[34mstringr\u001b[39m 1.5.0\n",
      "\u001b[32m✔\u001b[39m \u001b[34mtidyr  \u001b[39m 1.2.1     \u001b[32m✔\u001b[39m \u001b[34mforcats\u001b[39m 0.5.2\n",
      "\u001b[32m✔\u001b[39m \u001b[34mreadr  \u001b[39m 2.1.3     \n",
      "── \u001b[1mConflicts\u001b[22m ────────────────────────────────────────── tidyverse_conflicts() ──\n",
      "\u001b[31m✖\u001b[39m \u001b[34mgridExtra\u001b[39m::\u001b[32mcombine()\u001b[39m masks \u001b[34mdplyr\u001b[39m::combine()\n",
      "\u001b[31m✖\u001b[39m \u001b[34mdplyr\u001b[39m::\u001b[32mfilter()\u001b[39m      masks \u001b[34mstats\u001b[39m::filter()\n",
      "\u001b[31m✖\u001b[39m \u001b[34mdplyr\u001b[39m::\u001b[32mlag()\u001b[39m         masks \u001b[34mstats\u001b[39m::lag()\n",
      "Loading required package: timechange\n",
      "\n",
      "\n",
      "Attaching package: ‘lubridate’\n",
      "\n",
      "\n",
      "The following objects are masked from ‘package:base’:\n",
      "\n",
      "    date, intersect, setdiff, union\n",
      "\n",
      "\n"
     ]
    }
   ],
   "source": [
    "# Imports\n",
    "\n",
    "# library(cowplot)\n",
    "library(dplyr)\n",
    "library(gridExtra)\n",
    "library(tidyverse)\n",
    "library(repr)\n",
    "# library(infer)\n",
    "library(repr)\n",
    "# library(datateachr)\n",
    "library(digest)\n",
    "library(lubridate)\n",
    "# library(taxyvr)"
   ]
  },
  {
   "cell_type": "markdown",
   "id": "c7b325ea-8cb3-4e0c-8829-0a6cebec4f58",
   "metadata": {},
   "source": [
    "## Introduction\n",
    "### Background Information\n",
    "\n",
    "\n",
    "### Dataset and Project Question\n",
    "For our research project, we have selected datasets of hourly observations of PM2.5 concentration from 1-1-2010 to 12-31-2015. These datasets were retrieved from https://archive.ics.uci.edu/ml/datasets/PM2.5+Data+of+Five+Chinese+Cities and converted to CSV files online, containing the PM2.5 data in Beijing, Shanghai, Guangzhou, Chengdu and Shenyang, along with other meteorological data for each city.\n",
    "\n",
    "\n",
    "\n",
    "<!-- Generalisations based on sample -->\n",
    "<!-- Differences in locations -->"
   ]
  },
  {
   "cell_type": "markdown",
   "id": "cff5df47-0753-45f0-bb4f-c14e4beb8805",
   "metadata": {},
   "source": [
    "## Preliminary Results\n",
    "\n"
   ]
  },
  {
   "cell_type": "code",
   "execution_count": null,
   "id": "91b1fcc6-7cbd-4560-a2ec-f7263dcacf0b",
   "metadata": {},
   "outputs": [],
   "source": [
    "# Need to merge tables \n",
    "\n",
    "beijing_PM2.5 <- read.csv(\"https://raw.githubusercontent.com/Nick-2003/STAT-201-Group-46-Project/main/Data%20Sets/BeijingPM20100101_20151231.csv\")\n",
    "# beijing_PM2.5 <- read.csv(\"https://github.com/Nick-2003/STAT-201-Group-46-Project/raw/main/Data%20Sets/BeijingPM20100101_20151231.csv\")\n",
    "beijing_PM2.5 <- na.omit(beijing_PM2.5)\n",
    "beijing_PM2.5_AV <- beijing_PM2.5 %>% \n",
    "    mutate(PM_2.5_AV = (PM_Dongsi + PM_Dongsihuan + PM_Nongzhanguan)/3) %>% \n",
    "    select(year, month, day, hour, PM_2.5_AV, DEWP, HUMI, PRES, TEMP, cbwd, Iws)\n",
    "head(beijing_PM2.5_AV)\n",
    "\n",
    "shanghai_PM2.5 <- read.csv(\"https://raw.githubusercontent.com/Nick-2003/STAT-201-Group-46-Project/main/Data%20Sets/ShanghaiPM20100101_20151231.csv\")\n",
    "shanghai_PM2.5 <- na.omit(shanghai_PM2.5)\n",
    "shanghai_PM2.5_AV <- shanghai_PM2.5 %>% \n",
    "    mutate(PM_2.5_AV = (PM_Jingan + PM_US.Post + PM_Xuhui)/3) %>% \n",
    "    select(year, month, day, hour, PM_2.5_AV, DEWP, HUMI, PRES, TEMP, cbwd, Iws)\n",
    "head(shanghai_PM2.5_AV)\n",
    "\n",
    "chengdu_PM2.5 <- read.csv(\"https://raw.githubusercontent.com/Nick-2003/STAT-201-Group-46-Project/main/Data%20Sets/ChengduPM20100101_20151231.csv\")\n",
    "chengdu_PM2.5 <- na.omit(chengdu_PM2.5)\n",
    "chengdu_PM2.5_AV <- chengdu_PM2.5 %>% \n",
    "    mutate(PM_2.5_AV = (PM_Caotangsi + PM_Shahepu + PM_US.Post)/3) %>% \n",
    "    select(year, month, day, hour, PM_2.5_AV, DEWP, HUMI, PRES, TEMP, cbwd, Iws)\n",
    "head(chengdu_PM2.5_AV)\n",
    "\n",
    "guangzhou_PM2.5 <- read.csv(\"https://raw.githubusercontent.com/Nick-2003/STAT-201-Group-46-Project/main/Data%20Sets/GuangzhouPM20100101_20151231.csv\")\n",
    "guangzhou_PM2.5 <- na.omit(guangzhou_PM2.5)\n",
    "guangzhou_PM2.5_AV <- guangzhou_PM2.5 %>% \n",
    "    mutate(PM_2.5_AV = (PM_City.Station + PM_5th.Middle.School + PM_US.Post)/3) %>% \n",
    "    select(year, month, day, hour, PM_2.5_AV, DEWP, HUMI, PRES, TEMP, cbwd, Iws)\n",
    "head(guangzhou_PM2.5_AV)\n",
    "\n",
    "shenyang_PM2.5 <- read.csv(\"https://raw.githubusercontent.com/Nick-2003/STAT-201-Group-46-Project/main/Data%20Sets/ShenyangPM20100101_20151231.csv\")\n",
    "shenyang_PM2.5 <- na.omit(shenyang_PM2.5)\n",
    "shenyang_PM2.5_AV <- shenyang_PM2.5 %>% \n",
    "    mutate(PM_2.5_AV = (PM_Taiyuanjie + PM_US.Post + PM_Xiaoheyan)/3) %>% \n",
    "    select(year, month, day, hour, PM_2.5_AV, DEWP, HUMI, PRES, TEMP, cbwd, Iws)\n",
    "head(shenyang_PM2.5_AV)"
   ]
  },
  {
   "cell_type": "markdown",
   "id": "b6348ebd-2bc1-4284-a74b-f2ed660526e7",
   "metadata": {},
   "source": [
    "## Methods: Plan\n",
    "\n"
   ]
  },
  {
   "cell_type": "markdown",
   "id": "adc8edbf-b570-4ee9-abcb-d33e713a6074",
   "metadata": {},
   "source": [
    "## References\n",
    "\n",
    "<!-- - Liang, X., S. Li, S. Zhang, H. Huang, and S. X. Chen (2016), PM2.5 data reliability, consistency, and air quality assessment in five Chinese cities, J. Geophys. Res. Atmos., 121, 10220â€“10236 doi:10.1002/2016JD024877 -->\n",
    "- Liang, X. (2016). PM 2.5 data reliability, consistency, and air quality assessment in five chinese cities CONSISTENCY IN CHINA'S PM 2.5 DATA doi:10.1002/2016JD024877\n",
    "- "
   ]
  },
  {
   "cell_type": "code",
   "execution_count": null,
   "id": "8787d9d8-6abb-4a0c-9abb-6afde1b416d3",
   "metadata": {},
   "outputs": [],
   "source": []
  }
 ],
 "metadata": {
  "kernelspec": {
   "display_name": "R",
   "language": "R",
   "name": "ir"
  },
  "language_info": {
   "codemirror_mode": "r",
   "file_extension": ".r",
   "mimetype": "text/x-r-source",
   "name": "R",
   "pygments_lexer": "r",
   "version": "4.2.2"
  }
 },
 "nbformat": 4,
 "nbformat_minor": 5
}
