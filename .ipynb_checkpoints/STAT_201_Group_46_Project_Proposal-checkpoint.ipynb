{
 "cells": [
  {
   "cell_type": "markdown",
   "id": "175ea34f-9cde-40c2-ba3e-179921e291d7",
   "metadata": {},
   "source": [
    "# \n",
    "## Group 46\n",
    "### Tsun Li Nicholas Tam, Camila Dall Bello, Leon Zhang\n"
   ]
  },
  {
   "cell_type": "code",
   "execution_count": null,
   "id": "cf21c564-3f93-4905-bcfa-8f965a08fc2d",
   "metadata": {},
   "outputs": [],
   "source": [
    "# Imports\n",
    "library(cowplot)\n",
    "library(dplyr)\n",
    "library(gridExtra)\n",
    "library(tidyverse)\n",
    "library(repr)\n",
    "library(infer)\n",
    "library(repr)\n",
    "library(datateachr)\n",
    "library(digest)\n",
    "library(lubridate)\n",
    "library(taxyvr)"
   ]
  },
  {
   "cell_type": "markdown",
   "id": "c7b325ea-8cb3-4e0c-8829-0a6cebec4f58",
   "metadata": {},
   "source": [
    "## Introduction\n",
    "\n"
   ]
  },
  {
   "cell_type": "markdown",
   "id": "cff5df47-0753-45f0-bb4f-c14e4beb8805",
   "metadata": {},
   "source": [
    "## Preliminary Results\n",
    "\n",
    "\n",
    "## Methods: Plan\n",
    "\n",
    "\n",
    "## References\n"
   ]
  },
  {
   "cell_type": "code",
   "execution_count": 9,
   "id": "0fdd6483-1590-4993-a413-f6504f7eb062",
   "metadata": {},
   "outputs": [
    {
     "name": "stderr",
     "output_type": "stream",
     "text": [
      "Warning message in file(file, \"rt\"):\n",
      "“cannot open file 'STAT-201-Group-46-Project/PRSA_data_2010.1.1-2014.12.31 (1).csv': No such file or directory”\n"
     ]
    },
    {
     "ename": "ERROR",
     "evalue": "Error in file(file, \"rt\"): cannot open the connection\n",
     "output_type": "error",
     "traceback": [
      "Error in file(file, \"rt\"): cannot open the connection\nTraceback:\n",
      "1. read.csv(\"STAT-201-Group-46-Project/PRSA_data_2010.1.1-2014.12.31 (1).csv\")",
      "2. read.table(file = file, header = header, sep = sep, quote = quote, \n .     dec = dec, fill = fill, comment.char = comment.char, ...)",
      "3. file(file, \"rt\")"
     ]
    }
   ],
   "source": [
    "# url <- \"\"\n",
    "pollution <- read.csv(\"/home/jupyter/R/x86_64-pc-linux-gnu-library/4.0/STAT 201/STAT-201-Group-46-Project/PRSA_data_2010.1.1-2014.12.31 (1).csv\")\n",
    "pollution\n",
    "\n",
    "# getwd()"
   ]
  },
  {
   "cell_type": "code",
   "execution_count": null,
   "id": "d13af495-c7b4-455e-bb79-a6c07b80a480",
   "metadata": {},
   "outputs": [],
   "source": []
  }
 ],
 "metadata": {
  "kernelspec": {
   "display_name": "R",
   "language": "R",
   "name": "ir"
  },
  "language_info": {
   "codemirror_mode": "r",
   "file_extension": ".r",
   "mimetype": "text/x-r-source",
   "name": "R",
   "pygments_lexer": "r",
   "version": "4.2.2"
  }
 },
 "nbformat": 4,
 "nbformat_minor": 5
}
